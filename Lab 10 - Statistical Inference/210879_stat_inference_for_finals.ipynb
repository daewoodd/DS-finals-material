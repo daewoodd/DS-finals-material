{
  "cells": [
    {
      "cell_type": "markdown",
      "metadata": {
        "id": "M8DelBN95IZ2"
      },
      "source": [
        "# Statistical Inference.\n",
        "\n",
        "In this notebook we will see how to infer predictions about a population. To\n",
        "this end we will explore the relationship between sample parameters and population parameters and we will propose some methods to assess the quality\n",
        "of parameter estimates of a sample.\n",
        "\n",
        "## Data description\n",
        "\n",
        "Let's consider a dataset of accidents in Barcelona in 2013. This dataset can\n",
        "be downloaded from OpenDataBCN website (http://opendata.bcn.cat/),\n",
        "Barcelona's City Hall open data service. Each register in the dataset represents an accident by a series of features: weekday, hour, address, number\n",
        "of dead and injured people, etc. This dataset will represent our population:\n",
        "the set of all reported traffic accidents in Barcelona during 2013.\n",
        "\n",
        "In https://dieguico.cartodb.com/viz/50b06d8c-13ab-11e5-8619-0e4fddd5de28/public_map you can visualize a map of accidents in the city of Barcelona by hour of day, and by day of week."
      ]
    },
    {
      "cell_type": "code",
      "source": [
        "# separate cell for checking which plotting styles are available\n",
        "\n",
        "import matplotlib.pylab as plt\n",
        "from matplotlib import cm\n",
        "import matplotlib as mpl\n",
        "plt.style.available"
      ],
      "metadata": {
        "id": "l3aoWhy00uHm",
        "colab": {
          "base_uri": "https://localhost:8080/"
        },
        "outputId": "b11cd96a-eab2-4bcf-b6aa-d6dbcf14e054"
      },
      "execution_count": 37,
      "outputs": [
        {
          "output_type": "execute_result",
          "data": {
            "text/plain": [
              "['Solarize_Light2',\n",
              " '_classic_test_patch',\n",
              " '_mpl-gallery',\n",
              " '_mpl-gallery-nogrid',\n",
              " 'bmh',\n",
              " 'classic',\n",
              " 'dark_background',\n",
              " 'fast',\n",
              " 'fivethirtyeight',\n",
              " 'ggplot',\n",
              " 'grayscale',\n",
              " 'petroff10',\n",
              " 'seaborn-v0_8',\n",
              " 'seaborn-v0_8-bright',\n",
              " 'seaborn-v0_8-colorblind',\n",
              " 'seaborn-v0_8-dark',\n",
              " 'seaborn-v0_8-dark-palette',\n",
              " 'seaborn-v0_8-darkgrid',\n",
              " 'seaborn-v0_8-deep',\n",
              " 'seaborn-v0_8-muted',\n",
              " 'seaborn-v0_8-notebook',\n",
              " 'seaborn-v0_8-paper',\n",
              " 'seaborn-v0_8-pastel',\n",
              " 'seaborn-v0_8-poster',\n",
              " 'seaborn-v0_8-talk',\n",
              " 'seaborn-v0_8-ticks',\n",
              " 'seaborn-v0_8-white',\n",
              " 'seaborn-v0_8-whitegrid',\n",
              " 'tableau-colorblind10']"
            ]
          },
          "metadata": {},
          "execution_count": 37
        }
      ]
    },
    {
      "cell_type": "code",
      "execution_count": 39,
      "metadata": {
        "id": "PAWEXq3l5IZ6"
      },
      "outputs": [],
      "source": [
        "# importing matplotlib for plotting,\n",
        "# pandas and numpy for dataframe operations\n",
        "# and random for random number generation\n",
        "\n",
        "import math\n",
        "import pandas as pd\n",
        "import numpy as np\n",
        "import random\n",
        "\n",
        "\n",
        "# defining graph styling\n",
        "%matplotlib inline\n",
        "plt.style.use('seaborn-v0_8-whitegrid')\n",
        "plt.rc('text', usetex=True)\n",
        "plt.rc('font', family='times')\n",
        "plt.rc('xtick', labelsize=10)\n",
        "plt.rc('ytick', labelsize=10)\n",
        "plt.rc('font', size=12)\n",
        "\n",
        "mpl.rcParams['text.usetex'] = False"
      ]
    },
    {
      "cell_type": "code",
      "execution_count": 27,
      "metadata": {
        "id": "ppC7GYNV5IZ9"
      },
      "outputs": [],
      "source": [
        "# reading .csv data, storing it in \"data\" as a dataframe\n",
        "\n",
        "data = pd.read_csv(\"ACCIDENTS_GU_BCN_2013.csv\", encoding='latin-1') # latin-1 is a v simple form of encoding"
      ]
    },
    {
      "cell_type": "code",
      "execution_count": 28,
      "metadata": {
        "id": "eyhpBuFw5IZ9",
        "outputId": "8e69de7a-e60c-4337-af0e-60ae1f833658",
        "colab": {
          "base_uri": "https://localhost:8080/"
        }
      },
      "outputs": [
        {
          "output_type": "stream",
          "name": "stdout",
          "text": [
            "Index(['File/Record Number', 'District Code', 'District Name',\n",
            "       ' Neighborhood Code', ' Neighborhood Name', 'Street Code',\n",
            "       'Street Name', 'Postal Number Label', 'Day of the Week Description',\n",
            "       ' Day of the Week', 'Type of Day Description', ' Year Code',\n",
            "       'Month of the Year', 'Month Name', 'Day of the Month', 'Time of Day',\n",
            "       'Shift/Time Period Description', ' Pedestrian Cause Description',\n",
            "       ' Number of Deaths', 'Number of Minor Injuries',\n",
            "       'Number of Serious Injuries', 'Total Number of Victims',\n",
            "       'Number of Vehicles Involved', 'UTM Coordinate (Y)',\n",
            "       'UTM Coordinate (X)'],\n",
            "      dtype='object')\n"
          ]
        }
      ],
      "source": [
        "# printing the names of the dataframe columns\n",
        "\n",
        "print(data.columns)"
      ]
    },
    {
      "cell_type": "markdown",
      "metadata": {
        "id": "-z6vJTHs5IZ-"
      },
      "source": [
        "We will create a new data column which is the date and a list with the number of accidents for every day of the year:"
      ]
    },
    {
      "cell_type": "code",
      "execution_count": 29,
      "metadata": {
        "id": "SS0Nathf5IZ-",
        "outputId": "11c680e1-85fa-4de3-e915-f26f58ad0d7d",
        "colab": {
          "base_uri": "https://localhost:8080/"
        }
      },
      "outputs": [
        {
          "output_type": "stream",
          "name": "stdout",
          "text": [
            "Mean: 25.90958904109589 \n",
            "\n",
            "\n",
            "Accidents: \n",
            "\n",
            " Date\n",
            "2013-01-01    16\n",
            "2013-01-02    18\n",
            "2013-01-03    17\n",
            "2013-01-04    29\n",
            "2013-01-05    17\n",
            "              ..\n",
            "2013-12-27    21\n",
            "2013-12-28    12\n",
            "2013-12-29    13\n",
            "2013-12-30    26\n",
            "2013-12-31    19\n",
            "Length: 365, dtype: int64\n"
          ]
        }
      ],
      "source": [
        "# Data column:\n",
        "# Create a new column called \"Date\" that has the following format:\n",
        "# E.g. 2013-3-4, 2013-9-23, etc.\n",
        "# Since month of the year and days are integers, convert to strings via str()\n",
        "\n",
        "# Afterwards, group by \"Date\" column and have the total # of accidents on each date as the corresponding value\n",
        "\n",
        "# Then, print mean of this grouped column\n",
        "\n",
        "data['Date'] = '2013-'+data['Month of the Year'].apply(lambda x : str(x)) + '-' +  data['Day of the Month'].apply(lambda x : str(x))\n",
        "data['Date'] = pd.to_datetime(data['Date'])\n",
        "accidents = data.groupby(['Date']).size()\n",
        "print(f\"Mean: {accidents.mean()} \\n\\n\")\n",
        "print(f\"Accidents: \\n\\n {accidents}\")"
      ]
    },
    {
      "cell_type": "code",
      "execution_count": 30,
      "metadata": {
        "id": "vTDFWInU5IZ_",
        "outputId": "2caac5a8-d521-4ce5-81da-15d2712789ca",
        "colab": {
          "base_uri": "https://localhost:8080/",
          "height": 686
        }
      },
      "outputs": [
        {
          "output_type": "execute_result",
          "data": {
            "text/plain": [
              "     File/Record Number  District Code District Name  Neighborhood Code  \\\n",
              "0           2013S007360             -1    Desconegut                  1   \n",
              "1           2013S007723             10    Sant Martí          101-10-64   \n",
              "2           2013S005373             10    Sant Martí          101-10-64   \n",
              "3           2013S001486             10    Sant Martí          101-10-64   \n",
              "4           2013S008254             10    Sant Martí          101-10-64   \n",
              "...                 ...            ...           ...                ...   \n",
              "9452        2013S008023              9   Sant Andreu            93-9-59   \n",
              "9453        2013S006294              9   Sant Andreu            93-9-59   \n",
              "9454        2013S005884              9   Sant Andreu            93-9-59   \n",
              "9455        2013S001311              9   Sant Andreu            93-9-59   \n",
              "9456        2013S006739              9   Sant Andreu            93-9-59   \n",
              "\n",
              "               Neighborhood Name  Street Code          Street Name  \\\n",
              "0                     Desconegut           -1           Desconegut   \n",
              "1     el Camp de l'Arpa del Clot       152600             Guinardó   \n",
              "2     el Camp de l'Arpa del Clot       134801               Freser   \n",
              "3     el Camp de l'Arpa del Clot       161407            Indústria   \n",
              "4     el Camp de l'Arpa del Clot       161101        Independència   \n",
              "...                          ...          ...                  ...   \n",
              "9452               el Bon Pastor       701265      Litoral (Besòs)   \n",
              "9453               el Bon Pastor       701265      Litoral (Besòs)   \n",
              "9454               el Bon Pastor       701266  Litoral (Llobregat)   \n",
              "9455               el Bon Pastor        63850              Caracas   \n",
              "9456               el Bon Pastor       123306         Ferran Junoy   \n",
              "\n",
              "     Postal Number Label Day of the Week Description   Day of the Week  ...  \\\n",
              "0             Desconegut                    Dimecres                 3  ...   \n",
              "1              0028 0032                     Dimarts                 2  ...   \n",
              "2              0053 0053                     Dimarts                 2  ...   \n",
              "3              0224 0224                     Dimarts                 2  ...   \n",
              "4              0357 0357                     Dilluns                 1  ...   \n",
              "...                  ...                         ...               ...  ...   \n",
              "9452              120000                    Diumenge                 7  ...   \n",
              "9453              140000                      Dijous                 4  ...   \n",
              "9454              110000                    Dimecres                 3  ...   \n",
              "9455          0050B0050B                    Dimecres                 3  ...   \n",
              "9456           0054 0054                     Dilluns                 1  ...   \n",
              "\n",
              "     Shift/Time Period Description     Pedestrian Cause Description  \\\n",
              "0                            Tarda                       Desconegut   \n",
              "1                            Tarda                       Desconegut   \n",
              "2                             Matí  Creuar per fora pas de vianants   \n",
              "3                             Matí                           Altres   \n",
              "4                            Tarda                       Desconegut   \n",
              "...                            ...                              ...   \n",
              "9452                         Tarda                       Desconegut   \n",
              "9453                         Tarda                       Desconegut   \n",
              "9454                          Matí                       Desconegut   \n",
              "9455                         Tarda                       Desconegut   \n",
              "9456                          Matí                       Desconegut   \n",
              "\n",
              "       Number of Deaths Number of Minor Injuries  Number of Serious Injuries  \\\n",
              "0                     0                        1                           0   \n",
              "1                     0                        1                           0   \n",
              "2                     0                        1                           0   \n",
              "3                     0                        1                           0   \n",
              "4                     0                        1                           0   \n",
              "...                 ...                      ...                         ...   \n",
              "9452                  0                        1                           0   \n",
              "9453                  0                        2                           0   \n",
              "9454                  0                        9                           0   \n",
              "9455                  0                        1                           0   \n",
              "9456                  0                        2                           0   \n",
              "\n",
              "      Total Number of Victims Number of Vehicles Involved UTM Coordinate (Y)  \\\n",
              "0                           1                           2                 -1   \n",
              "1                           1                           2         4585218,67   \n",
              "2                           1                           1         4585049,89   \n",
              "3                           1                           1         4584836,20   \n",
              "4                           1                           2         4584704,26   \n",
              "...                       ...                         ...                ...   \n",
              "9452                        1                           1         4588266,09   \n",
              "9453                        2                           3         4588083,71   \n",
              "9454                        9                           2         4588339,80   \n",
              "9455                        1                           2         4588592,95   \n",
              "9456                        2                           2         4588179,93   \n",
              "\n",
              "      UTM Coordinate (X)       Date  \n",
              "0                     -1 2013-10-16  \n",
              "1              431621,41 2013-10-29  \n",
              "2              431605,09 2013-07-23  \n",
              "3              431302,26 2013-02-26  \n",
              "4              431385,76 2013-11-18  \n",
              "...                  ...        ...  \n",
              "9452           433713,00 2013-11-10  \n",
              "9453           433798,37 2013-09-05  \n",
              "9454           433640,52 2013-08-14  \n",
              "9455           433353,63 2013-02-20  \n",
              "9456           432914,61 2013-09-23  \n",
              "\n",
              "[9457 rows x 26 columns]"
            ],
            "text/html": [
              "\n",
              "  <div id=\"df-f62939ed-9246-4194-a1be-f214efe90e53\" class=\"colab-df-container\">\n",
              "    <div>\n",
              "<style scoped>\n",
              "    .dataframe tbody tr th:only-of-type {\n",
              "        vertical-align: middle;\n",
              "    }\n",
              "\n",
              "    .dataframe tbody tr th {\n",
              "        vertical-align: top;\n",
              "    }\n",
              "\n",
              "    .dataframe thead th {\n",
              "        text-align: right;\n",
              "    }\n",
              "</style>\n",
              "<table border=\"1\" class=\"dataframe\">\n",
              "  <thead>\n",
              "    <tr style=\"text-align: right;\">\n",
              "      <th></th>\n",
              "      <th>File/Record Number</th>\n",
              "      <th>District Code</th>\n",
              "      <th>District Name</th>\n",
              "      <th>Neighborhood Code</th>\n",
              "      <th>Neighborhood Name</th>\n",
              "      <th>Street Code</th>\n",
              "      <th>Street Name</th>\n",
              "      <th>Postal Number Label</th>\n",
              "      <th>Day of the Week Description</th>\n",
              "      <th>Day of the Week</th>\n",
              "      <th>...</th>\n",
              "      <th>Shift/Time Period Description</th>\n",
              "      <th>Pedestrian Cause Description</th>\n",
              "      <th>Number of Deaths</th>\n",
              "      <th>Number of Minor Injuries</th>\n",
              "      <th>Number of Serious Injuries</th>\n",
              "      <th>Total Number of Victims</th>\n",
              "      <th>Number of Vehicles Involved</th>\n",
              "      <th>UTM Coordinate (Y)</th>\n",
              "      <th>UTM Coordinate (X)</th>\n",
              "      <th>Date</th>\n",
              "    </tr>\n",
              "  </thead>\n",
              "  <tbody>\n",
              "    <tr>\n",
              "      <th>0</th>\n",
              "      <td>2013S007360</td>\n",
              "      <td>-1</td>\n",
              "      <td>Desconegut</td>\n",
              "      <td>1</td>\n",
              "      <td>Desconegut</td>\n",
              "      <td>-1</td>\n",
              "      <td>Desconegut</td>\n",
              "      <td>Desconegut</td>\n",
              "      <td>Dimecres</td>\n",
              "      <td>3</td>\n",
              "      <td>...</td>\n",
              "      <td>Tarda</td>\n",
              "      <td>Desconegut</td>\n",
              "      <td>0</td>\n",
              "      <td>1</td>\n",
              "      <td>0</td>\n",
              "      <td>1</td>\n",
              "      <td>2</td>\n",
              "      <td>-1</td>\n",
              "      <td>-1</td>\n",
              "      <td>2013-10-16</td>\n",
              "    </tr>\n",
              "    <tr>\n",
              "      <th>1</th>\n",
              "      <td>2013S007723</td>\n",
              "      <td>10</td>\n",
              "      <td>Sant Martí</td>\n",
              "      <td>101-10-64</td>\n",
              "      <td>el Camp de l'Arpa del Clot</td>\n",
              "      <td>152600</td>\n",
              "      <td>Guinardó</td>\n",
              "      <td>0028 0032</td>\n",
              "      <td>Dimarts</td>\n",
              "      <td>2</td>\n",
              "      <td>...</td>\n",
              "      <td>Tarda</td>\n",
              "      <td>Desconegut</td>\n",
              "      <td>0</td>\n",
              "      <td>1</td>\n",
              "      <td>0</td>\n",
              "      <td>1</td>\n",
              "      <td>2</td>\n",
              "      <td>4585218,67</td>\n",
              "      <td>431621,41</td>\n",
              "      <td>2013-10-29</td>\n",
              "    </tr>\n",
              "    <tr>\n",
              "      <th>2</th>\n",
              "      <td>2013S005373</td>\n",
              "      <td>10</td>\n",
              "      <td>Sant Martí</td>\n",
              "      <td>101-10-64</td>\n",
              "      <td>el Camp de l'Arpa del Clot</td>\n",
              "      <td>134801</td>\n",
              "      <td>Freser</td>\n",
              "      <td>0053 0053</td>\n",
              "      <td>Dimarts</td>\n",
              "      <td>2</td>\n",
              "      <td>...</td>\n",
              "      <td>Matí</td>\n",
              "      <td>Creuar per fora pas de vianants</td>\n",
              "      <td>0</td>\n",
              "      <td>1</td>\n",
              "      <td>0</td>\n",
              "      <td>1</td>\n",
              "      <td>1</td>\n",
              "      <td>4585049,89</td>\n",
              "      <td>431605,09</td>\n",
              "      <td>2013-07-23</td>\n",
              "    </tr>\n",
              "    <tr>\n",
              "      <th>3</th>\n",
              "      <td>2013S001486</td>\n",
              "      <td>10</td>\n",
              "      <td>Sant Martí</td>\n",
              "      <td>101-10-64</td>\n",
              "      <td>el Camp de l'Arpa del Clot</td>\n",
              "      <td>161407</td>\n",
              "      <td>Indústria</td>\n",
              "      <td>0224 0224</td>\n",
              "      <td>Dimarts</td>\n",
              "      <td>2</td>\n",
              "      <td>...</td>\n",
              "      <td>Matí</td>\n",
              "      <td>Altres</td>\n",
              "      <td>0</td>\n",
              "      <td>1</td>\n",
              "      <td>0</td>\n",
              "      <td>1</td>\n",
              "      <td>1</td>\n",
              "      <td>4584836,20</td>\n",
              "      <td>431302,26</td>\n",
              "      <td>2013-02-26</td>\n",
              "    </tr>\n",
              "    <tr>\n",
              "      <th>4</th>\n",
              "      <td>2013S008254</td>\n",
              "      <td>10</td>\n",
              "      <td>Sant Martí</td>\n",
              "      <td>101-10-64</td>\n",
              "      <td>el Camp de l'Arpa del Clot</td>\n",
              "      <td>161101</td>\n",
              "      <td>Independència</td>\n",
              "      <td>0357 0357</td>\n",
              "      <td>Dilluns</td>\n",
              "      <td>1</td>\n",
              "      <td>...</td>\n",
              "      <td>Tarda</td>\n",
              "      <td>Desconegut</td>\n",
              "      <td>0</td>\n",
              "      <td>1</td>\n",
              "      <td>0</td>\n",
              "      <td>1</td>\n",
              "      <td>2</td>\n",
              "      <td>4584704,26</td>\n",
              "      <td>431385,76</td>\n",
              "      <td>2013-11-18</td>\n",
              "    </tr>\n",
              "    <tr>\n",
              "      <th>...</th>\n",
              "      <td>...</td>\n",
              "      <td>...</td>\n",
              "      <td>...</td>\n",
              "      <td>...</td>\n",
              "      <td>...</td>\n",
              "      <td>...</td>\n",
              "      <td>...</td>\n",
              "      <td>...</td>\n",
              "      <td>...</td>\n",
              "      <td>...</td>\n",
              "      <td>...</td>\n",
              "      <td>...</td>\n",
              "      <td>...</td>\n",
              "      <td>...</td>\n",
              "      <td>...</td>\n",
              "      <td>...</td>\n",
              "      <td>...</td>\n",
              "      <td>...</td>\n",
              "      <td>...</td>\n",
              "      <td>...</td>\n",
              "      <td>...</td>\n",
              "    </tr>\n",
              "    <tr>\n",
              "      <th>9452</th>\n",
              "      <td>2013S008023</td>\n",
              "      <td>9</td>\n",
              "      <td>Sant Andreu</td>\n",
              "      <td>93-9-59</td>\n",
              "      <td>el Bon Pastor</td>\n",
              "      <td>701265</td>\n",
              "      <td>Litoral (Besòs)</td>\n",
              "      <td>120000</td>\n",
              "      <td>Diumenge</td>\n",
              "      <td>7</td>\n",
              "      <td>...</td>\n",
              "      <td>Tarda</td>\n",
              "      <td>Desconegut</td>\n",
              "      <td>0</td>\n",
              "      <td>1</td>\n",
              "      <td>0</td>\n",
              "      <td>1</td>\n",
              "      <td>1</td>\n",
              "      <td>4588266,09</td>\n",
              "      <td>433713,00</td>\n",
              "      <td>2013-11-10</td>\n",
              "    </tr>\n",
              "    <tr>\n",
              "      <th>9453</th>\n",
              "      <td>2013S006294</td>\n",
              "      <td>9</td>\n",
              "      <td>Sant Andreu</td>\n",
              "      <td>93-9-59</td>\n",
              "      <td>el Bon Pastor</td>\n",
              "      <td>701265</td>\n",
              "      <td>Litoral (Besòs)</td>\n",
              "      <td>140000</td>\n",
              "      <td>Dijous</td>\n",
              "      <td>4</td>\n",
              "      <td>...</td>\n",
              "      <td>Tarda</td>\n",
              "      <td>Desconegut</td>\n",
              "      <td>0</td>\n",
              "      <td>2</td>\n",
              "      <td>0</td>\n",
              "      <td>2</td>\n",
              "      <td>3</td>\n",
              "      <td>4588083,71</td>\n",
              "      <td>433798,37</td>\n",
              "      <td>2013-09-05</td>\n",
              "    </tr>\n",
              "    <tr>\n",
              "      <th>9454</th>\n",
              "      <td>2013S005884</td>\n",
              "      <td>9</td>\n",
              "      <td>Sant Andreu</td>\n",
              "      <td>93-9-59</td>\n",
              "      <td>el Bon Pastor</td>\n",
              "      <td>701266</td>\n",
              "      <td>Litoral (Llobregat)</td>\n",
              "      <td>110000</td>\n",
              "      <td>Dimecres</td>\n",
              "      <td>3</td>\n",
              "      <td>...</td>\n",
              "      <td>Matí</td>\n",
              "      <td>Desconegut</td>\n",
              "      <td>0</td>\n",
              "      <td>9</td>\n",
              "      <td>0</td>\n",
              "      <td>9</td>\n",
              "      <td>2</td>\n",
              "      <td>4588339,80</td>\n",
              "      <td>433640,52</td>\n",
              "      <td>2013-08-14</td>\n",
              "    </tr>\n",
              "    <tr>\n",
              "      <th>9455</th>\n",
              "      <td>2013S001311</td>\n",
              "      <td>9</td>\n",
              "      <td>Sant Andreu</td>\n",
              "      <td>93-9-59</td>\n",
              "      <td>el Bon Pastor</td>\n",
              "      <td>63850</td>\n",
              "      <td>Caracas</td>\n",
              "      <td>0050B0050B</td>\n",
              "      <td>Dimecres</td>\n",
              "      <td>3</td>\n",
              "      <td>...</td>\n",
              "      <td>Tarda</td>\n",
              "      <td>Desconegut</td>\n",
              "      <td>0</td>\n",
              "      <td>1</td>\n",
              "      <td>0</td>\n",
              "      <td>1</td>\n",
              "      <td>2</td>\n",
              "      <td>4588592,95</td>\n",
              "      <td>433353,63</td>\n",
              "      <td>2013-02-20</td>\n",
              "    </tr>\n",
              "    <tr>\n",
              "      <th>9456</th>\n",
              "      <td>2013S006739</td>\n",
              "      <td>9</td>\n",
              "      <td>Sant Andreu</td>\n",
              "      <td>93-9-59</td>\n",
              "      <td>el Bon Pastor</td>\n",
              "      <td>123306</td>\n",
              "      <td>Ferran Junoy</td>\n",
              "      <td>0054 0054</td>\n",
              "      <td>Dilluns</td>\n",
              "      <td>1</td>\n",
              "      <td>...</td>\n",
              "      <td>Matí</td>\n",
              "      <td>Desconegut</td>\n",
              "      <td>0</td>\n",
              "      <td>2</td>\n",
              "      <td>0</td>\n",
              "      <td>2</td>\n",
              "      <td>2</td>\n",
              "      <td>4588179,93</td>\n",
              "      <td>432914,61</td>\n",
              "      <td>2013-09-23</td>\n",
              "    </tr>\n",
              "  </tbody>\n",
              "</table>\n",
              "<p>9457 rows × 26 columns</p>\n",
              "</div>\n",
              "    <div class=\"colab-df-buttons\">\n",
              "\n",
              "  <div class=\"colab-df-container\">\n",
              "    <button class=\"colab-df-convert\" onclick=\"convertToInteractive('df-f62939ed-9246-4194-a1be-f214efe90e53')\"\n",
              "            title=\"Convert this dataframe to an interactive table.\"\n",
              "            style=\"display:none;\">\n",
              "\n",
              "  <svg xmlns=\"http://www.w3.org/2000/svg\" height=\"24px\" viewBox=\"0 -960 960 960\">\n",
              "    <path d=\"M120-120v-720h720v720H120Zm60-500h600v-160H180v160Zm220 220h160v-160H400v160Zm0 220h160v-160H400v160ZM180-400h160v-160H180v160Zm440 0h160v-160H620v160ZM180-180h160v-160H180v160Zm440 0h160v-160H620v160Z\"/>\n",
              "  </svg>\n",
              "    </button>\n",
              "\n",
              "  <style>\n",
              "    .colab-df-container {\n",
              "      display:flex;\n",
              "      gap: 12px;\n",
              "    }\n",
              "\n",
              "    .colab-df-convert {\n",
              "      background-color: #E8F0FE;\n",
              "      border: none;\n",
              "      border-radius: 50%;\n",
              "      cursor: pointer;\n",
              "      display: none;\n",
              "      fill: #1967D2;\n",
              "      height: 32px;\n",
              "      padding: 0 0 0 0;\n",
              "      width: 32px;\n",
              "    }\n",
              "\n",
              "    .colab-df-convert:hover {\n",
              "      background-color: #E2EBFA;\n",
              "      box-shadow: 0px 1px 2px rgba(60, 64, 67, 0.3), 0px 1px 3px 1px rgba(60, 64, 67, 0.15);\n",
              "      fill: #174EA6;\n",
              "    }\n",
              "\n",
              "    .colab-df-buttons div {\n",
              "      margin-bottom: 4px;\n",
              "    }\n",
              "\n",
              "    [theme=dark] .colab-df-convert {\n",
              "      background-color: #3B4455;\n",
              "      fill: #D2E3FC;\n",
              "    }\n",
              "\n",
              "    [theme=dark] .colab-df-convert:hover {\n",
              "      background-color: #434B5C;\n",
              "      box-shadow: 0px 1px 3px 1px rgba(0, 0, 0, 0.15);\n",
              "      filter: drop-shadow(0px 1px 2px rgba(0, 0, 0, 0.3));\n",
              "      fill: #FFFFFF;\n",
              "    }\n",
              "  </style>\n",
              "\n",
              "    <script>\n",
              "      const buttonEl =\n",
              "        document.querySelector('#df-f62939ed-9246-4194-a1be-f214efe90e53 button.colab-df-convert');\n",
              "      buttonEl.style.display =\n",
              "        google.colab.kernel.accessAllowed ? 'block' : 'none';\n",
              "\n",
              "      async function convertToInteractive(key) {\n",
              "        const element = document.querySelector('#df-f62939ed-9246-4194-a1be-f214efe90e53');\n",
              "        const dataTable =\n",
              "          await google.colab.kernel.invokeFunction('convertToInteractive',\n",
              "                                                    [key], {});\n",
              "        if (!dataTable) return;\n",
              "\n",
              "        const docLinkHtml = 'Like what you see? Visit the ' +\n",
              "          '<a target=\"_blank\" href=https://colab.research.google.com/notebooks/data_table.ipynb>data table notebook</a>'\n",
              "          + ' to learn more about interactive tables.';\n",
              "        element.innerHTML = '';\n",
              "        dataTable['output_type'] = 'display_data';\n",
              "        await google.colab.output.renderOutput(dataTable, element);\n",
              "        const docLink = document.createElement('div');\n",
              "        docLink.innerHTML = docLinkHtml;\n",
              "        element.appendChild(docLink);\n",
              "      }\n",
              "    </script>\n",
              "  </div>\n",
              "\n",
              "\n",
              "    <div id=\"df-ece8e9b1-1e5b-4102-bed9-cdcafccdc1aa\">\n",
              "      <button class=\"colab-df-quickchart\" onclick=\"quickchart('df-ece8e9b1-1e5b-4102-bed9-cdcafccdc1aa')\"\n",
              "                title=\"Suggest charts\"\n",
              "                style=\"display:none;\">\n",
              "\n",
              "<svg xmlns=\"http://www.w3.org/2000/svg\" height=\"24px\"viewBox=\"0 0 24 24\"\n",
              "     width=\"24px\">\n",
              "    <g>\n",
              "        <path d=\"M19 3H5c-1.1 0-2 .9-2 2v14c0 1.1.9 2 2 2h14c1.1 0 2-.9 2-2V5c0-1.1-.9-2-2-2zM9 17H7v-7h2v7zm4 0h-2V7h2v10zm4 0h-2v-4h2v4z\"/>\n",
              "    </g>\n",
              "</svg>\n",
              "      </button>\n",
              "\n",
              "<style>\n",
              "  .colab-df-quickchart {\n",
              "      --bg-color: #E8F0FE;\n",
              "      --fill-color: #1967D2;\n",
              "      --hover-bg-color: #E2EBFA;\n",
              "      --hover-fill-color: #174EA6;\n",
              "      --disabled-fill-color: #AAA;\n",
              "      --disabled-bg-color: #DDD;\n",
              "  }\n",
              "\n",
              "  [theme=dark] .colab-df-quickchart {\n",
              "      --bg-color: #3B4455;\n",
              "      --fill-color: #D2E3FC;\n",
              "      --hover-bg-color: #434B5C;\n",
              "      --hover-fill-color: #FFFFFF;\n",
              "      --disabled-bg-color: #3B4455;\n",
              "      --disabled-fill-color: #666;\n",
              "  }\n",
              "\n",
              "  .colab-df-quickchart {\n",
              "    background-color: var(--bg-color);\n",
              "    border: none;\n",
              "    border-radius: 50%;\n",
              "    cursor: pointer;\n",
              "    display: none;\n",
              "    fill: var(--fill-color);\n",
              "    height: 32px;\n",
              "    padding: 0;\n",
              "    width: 32px;\n",
              "  }\n",
              "\n",
              "  .colab-df-quickchart:hover {\n",
              "    background-color: var(--hover-bg-color);\n",
              "    box-shadow: 0 1px 2px rgba(60, 64, 67, 0.3), 0 1px 3px 1px rgba(60, 64, 67, 0.15);\n",
              "    fill: var(--button-hover-fill-color);\n",
              "  }\n",
              "\n",
              "  .colab-df-quickchart-complete:disabled,\n",
              "  .colab-df-quickchart-complete:disabled:hover {\n",
              "    background-color: var(--disabled-bg-color);\n",
              "    fill: var(--disabled-fill-color);\n",
              "    box-shadow: none;\n",
              "  }\n",
              "\n",
              "  .colab-df-spinner {\n",
              "    border: 2px solid var(--fill-color);\n",
              "    border-color: transparent;\n",
              "    border-bottom-color: var(--fill-color);\n",
              "    animation:\n",
              "      spin 1s steps(1) infinite;\n",
              "  }\n",
              "\n",
              "  @keyframes spin {\n",
              "    0% {\n",
              "      border-color: transparent;\n",
              "      border-bottom-color: var(--fill-color);\n",
              "      border-left-color: var(--fill-color);\n",
              "    }\n",
              "    20% {\n",
              "      border-color: transparent;\n",
              "      border-left-color: var(--fill-color);\n",
              "      border-top-color: var(--fill-color);\n",
              "    }\n",
              "    30% {\n",
              "      border-color: transparent;\n",
              "      border-left-color: var(--fill-color);\n",
              "      border-top-color: var(--fill-color);\n",
              "      border-right-color: var(--fill-color);\n",
              "    }\n",
              "    40% {\n",
              "      border-color: transparent;\n",
              "      border-right-color: var(--fill-color);\n",
              "      border-top-color: var(--fill-color);\n",
              "    }\n",
              "    60% {\n",
              "      border-color: transparent;\n",
              "      border-right-color: var(--fill-color);\n",
              "    }\n",
              "    80% {\n",
              "      border-color: transparent;\n",
              "      border-right-color: var(--fill-color);\n",
              "      border-bottom-color: var(--fill-color);\n",
              "    }\n",
              "    90% {\n",
              "      border-color: transparent;\n",
              "      border-bottom-color: var(--fill-color);\n",
              "    }\n",
              "  }\n",
              "</style>\n",
              "\n",
              "      <script>\n",
              "        async function quickchart(key) {\n",
              "          const quickchartButtonEl =\n",
              "            document.querySelector('#' + key + ' button');\n",
              "          quickchartButtonEl.disabled = true;  // To prevent multiple clicks.\n",
              "          quickchartButtonEl.classList.add('colab-df-spinner');\n",
              "          try {\n",
              "            const charts = await google.colab.kernel.invokeFunction(\n",
              "                'suggestCharts', [key], {});\n",
              "          } catch (error) {\n",
              "            console.error('Error during call to suggestCharts:', error);\n",
              "          }\n",
              "          quickchartButtonEl.classList.remove('colab-df-spinner');\n",
              "          quickchartButtonEl.classList.add('colab-df-quickchart-complete');\n",
              "        }\n",
              "        (() => {\n",
              "          let quickchartButtonEl =\n",
              "            document.querySelector('#df-ece8e9b1-1e5b-4102-bed9-cdcafccdc1aa button');\n",
              "          quickchartButtonEl.style.display =\n",
              "            google.colab.kernel.accessAllowed ? 'block' : 'none';\n",
              "        })();\n",
              "      </script>\n",
              "    </div>\n",
              "\n",
              "  <div id=\"id_d5ddd82a-069e-4848-b272-172fe41b643f\">\n",
              "    <style>\n",
              "      .colab-df-generate {\n",
              "        background-color: #E8F0FE;\n",
              "        border: none;\n",
              "        border-radius: 50%;\n",
              "        cursor: pointer;\n",
              "        display: none;\n",
              "        fill: #1967D2;\n",
              "        height: 32px;\n",
              "        padding: 0 0 0 0;\n",
              "        width: 32px;\n",
              "      }\n",
              "\n",
              "      .colab-df-generate:hover {\n",
              "        background-color: #E2EBFA;\n",
              "        box-shadow: 0px 1px 2px rgba(60, 64, 67, 0.3), 0px 1px 3px 1px rgba(60, 64, 67, 0.15);\n",
              "        fill: #174EA6;\n",
              "      }\n",
              "\n",
              "      [theme=dark] .colab-df-generate {\n",
              "        background-color: #3B4455;\n",
              "        fill: #D2E3FC;\n",
              "      }\n",
              "\n",
              "      [theme=dark] .colab-df-generate:hover {\n",
              "        background-color: #434B5C;\n",
              "        box-shadow: 0px 1px 3px 1px rgba(0, 0, 0, 0.15);\n",
              "        filter: drop-shadow(0px 1px 2px rgba(0, 0, 0, 0.3));\n",
              "        fill: #FFFFFF;\n",
              "      }\n",
              "    </style>\n",
              "    <button class=\"colab-df-generate\" onclick=\"generateWithVariable('data')\"\n",
              "            title=\"Generate code using this dataframe.\"\n",
              "            style=\"display:none;\">\n",
              "\n",
              "  <svg xmlns=\"http://www.w3.org/2000/svg\" height=\"24px\"viewBox=\"0 0 24 24\"\n",
              "       width=\"24px\">\n",
              "    <path d=\"M7,19H8.4L18.45,9,17,7.55,7,17.6ZM5,21V16.75L18.45,3.32a2,2,0,0,1,2.83,0l1.4,1.43a1.91,1.91,0,0,1,.58,1.4,1.91,1.91,0,0,1-.58,1.4L9.25,21ZM18.45,9,17,7.55Zm-12,3A5.31,5.31,0,0,0,4.9,8.1,5.31,5.31,0,0,0,1,6.5,5.31,5.31,0,0,0,4.9,4.9,5.31,5.31,0,0,0,6.5,1,5.31,5.31,0,0,0,8.1,4.9,5.31,5.31,0,0,0,12,6.5,5.46,5.46,0,0,0,6.5,12Z\"/>\n",
              "  </svg>\n",
              "    </button>\n",
              "    <script>\n",
              "      (() => {\n",
              "      const buttonEl =\n",
              "        document.querySelector('#id_d5ddd82a-069e-4848-b272-172fe41b643f button.colab-df-generate');\n",
              "      buttonEl.style.display =\n",
              "        google.colab.kernel.accessAllowed ? 'block' : 'none';\n",
              "\n",
              "      buttonEl.onclick = () => {\n",
              "        google.colab.notebook.generateWithVariable('data');\n",
              "      }\n",
              "      })();\n",
              "    </script>\n",
              "  </div>\n",
              "\n",
              "    </div>\n",
              "  </div>\n"
            ],
            "application/vnd.google.colaboratory.intrinsic+json": {
              "type": "dataframe",
              "variable_name": "data"
            }
          },
          "metadata": {},
          "execution_count": 30
        }
      ],
      "source": [
        "data"
      ]
    },
    {
      "cell_type": "markdown",
      "metadata": {
        "id": "M4ZoScgQ5IaA"
      },
      "source": [
        "Let's suppose that we are interested in describing the number of daily traffic\n",
        "accidents (**accident rate**) in the streets of Barcelona during 2013.  In order to get a first idea of the data, we can plot the number of accidents for each day of 2013:"
      ]
    },
    {
      "cell_type": "code",
      "execution_count": 40,
      "metadata": {
        "id": "3GRm5goV5IaB",
        "outputId": "1e32b36d-f64b-4238-fc04-8c7c1b54857b",
        "colab": {
          "base_uri": "https://localhost:8080/",
          "height": 1000
        }
      },
      "outputs": [
        {
          "output_type": "stream",
          "name": "stderr",
          "text": [
            "WARNING:matplotlib.font_manager:findfont: Font family 'times' not found.\n",
            "WARNING:matplotlib.font_manager:findfont: Font family 'times' not found.\n",
            "WARNING:matplotlib.font_manager:findfont: Font family 'times' not found.\n",
            "WARNING:matplotlib.font_manager:findfont: Font family 'times' not found.\n",
            "WARNING:matplotlib.font_manager:findfont: Font family 'times' not found.\n",
            "WARNING:matplotlib.font_manager:findfont: Font family 'times' not found.\n",
            "WARNING:matplotlib.font_manager:findfont: Font family 'times' not found.\n",
            "WARNING:matplotlib.font_manager:findfont: Font family 'times' not found.\n",
            "WARNING:matplotlib.font_manager:findfont: Font family 'times' not found.\n",
            "WARNING:matplotlib.font_manager:findfont: Font family 'times' not found.\n",
            "WARNING:matplotlib.font_manager:findfont: Font family 'times' not found.\n",
            "WARNING:matplotlib.font_manager:findfont: Font family 'times' not found.\n",
            "WARNING:matplotlib.font_manager:findfont: Font family 'times' not found.\n",
            "WARNING:matplotlib.font_manager:findfont: Font family 'times' not found.\n",
            "WARNING:matplotlib.font_manager:findfont: Font family 'times' not found.\n",
            "WARNING:matplotlib.font_manager:findfont: Font family 'times' not found.\n",
            "WARNING:matplotlib.font_manager:findfont: Font family 'times' not found.\n",
            "WARNING:matplotlib.font_manager:findfont: Font family 'times' not found.\n",
            "WARNING:matplotlib.font_manager:findfont: Font family 'times' not found.\n",
            "WARNING:matplotlib.font_manager:findfont: Font family 'times' not found.\n",
            "WARNING:matplotlib.font_manager:findfont: Font family 'times' not found.\n",
            "WARNING:matplotlib.font_manager:findfont: Font family 'times' not found.\n",
            "WARNING:matplotlib.font_manager:findfont: Font family 'times' not found.\n",
            "WARNING:matplotlib.font_manager:findfont: Font family 'times' not found.\n",
            "WARNING:matplotlib.font_manager:findfont: Font family 'times' not found.\n",
            "WARNING:matplotlib.font_manager:findfont: Font family 'times' not found.\n",
            "WARNING:matplotlib.font_manager:findfont: Font family 'times' not found.\n",
            "WARNING:matplotlib.font_manager:findfont: Font family 'times' not found.\n",
            "WARNING:matplotlib.font_manager:findfont: Font family 'times' not found.\n",
            "WARNING:matplotlib.font_manager:findfont: Font family 'times' not found.\n",
            "WARNING:matplotlib.font_manager:findfont: Font family 'times' not found.\n",
            "WARNING:matplotlib.font_manager:findfont: Font family 'times' not found.\n",
            "WARNING:matplotlib.font_manager:findfont: Font family 'times' not found.\n",
            "WARNING:matplotlib.font_manager:findfont: Font family 'times' not found.\n",
            "WARNING:matplotlib.font_manager:findfont: Font family 'times' not found.\n",
            "WARNING:matplotlib.font_manager:findfont: Font family 'times' not found.\n",
            "WARNING:matplotlib.font_manager:findfont: Font family 'times' not found.\n",
            "WARNING:matplotlib.font_manager:findfont: Font family 'times' not found.\n",
            "WARNING:matplotlib.font_manager:findfont: Font family 'times' not found.\n",
            "WARNING:matplotlib.font_manager:findfont: Font family 'times' not found.\n",
            "WARNING:matplotlib.font_manager:findfont: Font family 'times' not found.\n",
            "WARNING:matplotlib.font_manager:findfont: Font family 'times' not found.\n",
            "WARNING:matplotlib.font_manager:findfont: Font family 'times' not found.\n",
            "WARNING:matplotlib.font_manager:findfont: Font family 'times' not found.\n",
            "WARNING:matplotlib.font_manager:findfont: Font family 'times' not found.\n",
            "WARNING:matplotlib.font_manager:findfont: Font family 'times' not found.\n",
            "WARNING:matplotlib.font_manager:findfont: Font family 'times' not found.\n"
          ]
        },
        {
          "output_type": "display_data",
          "data": {
            "text/plain": [
              "<Figure size 1200x400 with 1 Axes>"
            ],
            "image/png": "[encoded data removed]"
          },
          "metadata": {}
        }
      ],
      "source": [
        "# Describe accident rate in the streets of Barcelona during 2013\n",
        "\n",
        "fig, ax = plt.subplots(1, 1, figsize=(12, 4))\n",
        "plt.ylabel('Number of accidents')\n",
        "plt.xlabel('Day')\n",
        "plt.plot(range(0, 365), np.array(accidents), 'b-+', lw=0.7, alpha=0.7)\n",
        "plt.plot(range(0, 365), [accidents.mean()]*365, 'r-', lw=0.7, alpha=0.9)\n",
        "plt.show()"
      ]
    },
    {
      "cell_type": "markdown",
      "metadata": {
        "id": "VkIvVihs5IaC"
      },
      "source": [
        "Alternatively, we can plot the distribution of our variable of interest: the daily number of accidents."
      ]
    },
    {
      "cell_type": "code",
      "execution_count": 41,
      "metadata": {
        "id": "VT_bx_gB5IaC",
        "outputId": "e1b252cf-25f3-42fa-a1b5-240384614df5",
        "colab": {
          "base_uri": "https://localhost:8080/",
          "height": 1000
        }
      },
      "outputs": [
        {
          "output_type": "stream",
          "name": "stderr",
          "text": [
            "WARNING:matplotlib.font_manager:findfont: Font family 'times' not found.\n",
            "WARNING:matplotlib.font_manager:findfont: Font family 'times' not found.\n",
            "WARNING:matplotlib.font_manager:findfont: Font family 'times' not found.\n",
            "WARNING:matplotlib.font_manager:findfont: Font family 'times' not found.\n",
            "WARNING:matplotlib.font_manager:findfont: Font family 'times' not found.\n",
            "WARNING:matplotlib.font_manager:findfont: Font family 'times' not found.\n",
            "WARNING:matplotlib.font_manager:findfont: Font family 'times' not found.\n",
            "WARNING:matplotlib.font_manager:findfont: Font family 'times' not found.\n",
            "WARNING:matplotlib.font_manager:findfont: Font family 'times' not found.\n",
            "WARNING:matplotlib.font_manager:findfont: Font family 'times' not found.\n",
            "WARNING:matplotlib.font_manager:findfont: Font family 'times' not found.\n",
            "WARNING:matplotlib.font_manager:findfont: Font family 'times' not found.\n",
            "WARNING:matplotlib.font_manager:findfont: Font family 'times' not found.\n",
            "WARNING:matplotlib.font_manager:findfont: Font family 'times' not found.\n",
            "WARNING:matplotlib.font_manager:findfont: Font family 'times' not found.\n",
            "WARNING:matplotlib.font_manager:findfont: Font family 'times' not found.\n",
            "WARNING:matplotlib.font_manager:findfont: Font family 'times' not found.\n",
            "WARNING:matplotlib.font_manager:findfont: Font family 'times' not found.\n",
            "WARNING:matplotlib.font_manager:findfont: Font family 'times' not found.\n",
            "WARNING:matplotlib.font_manager:findfont: Font family 'times' not found.\n",
            "WARNING:matplotlib.font_manager:findfont: Font family 'times' not found.\n",
            "WARNING:matplotlib.font_manager:findfont: Font family 'times' not found.\n",
            "WARNING:matplotlib.font_manager:findfont: Font family 'times' not found.\n",
            "WARNING:matplotlib.font_manager:findfont: Font family 'times' not found.\n",
            "WARNING:matplotlib.font_manager:findfont: Font family 'times' not found.\n",
            "WARNING:matplotlib.font_manager:findfont: Font family 'times' not found.\n",
            "WARNING:matplotlib.font_manager:findfont: Font family 'times' not found.\n",
            "WARNING:matplotlib.font_manager:findfont: Font family 'times' not found.\n",
            "WARNING:matplotlib.font_manager:findfont: Font family 'times' not found.\n",
            "WARNING:matplotlib.font_manager:findfont: Font family 'times' not found.\n",
            "WARNING:matplotlib.font_manager:findfont: Font family 'times' not found.\n",
            "WARNING:matplotlib.font_manager:findfont: Font family 'times' not found.\n",
            "WARNING:matplotlib.font_manager:findfont: Font family 'times' not found.\n",
            "WARNING:matplotlib.font_manager:findfont: Font family 'times' not found.\n",
            "WARNING:matplotlib.font_manager:findfont: Font family 'times' not found.\n",
            "WARNING:matplotlib.font_manager:findfont: Font family 'times' not found.\n",
            "WARNING:matplotlib.font_manager:findfont: Font family 'times' not found.\n",
            "WARNING:matplotlib.font_manager:findfont: Font family 'times' not found.\n",
            "WARNING:matplotlib.font_manager:findfont: Font family 'times' not found.\n",
            "WARNING:matplotlib.font_manager:findfont: Font family 'times' not found.\n",
            "WARNING:matplotlib.font_manager:findfont: Font family 'times' not found.\n",
            "WARNING:matplotlib.font_manager:findfont: Font family 'times' not found.\n",
            "WARNING:matplotlib.font_manager:findfont: Font family 'times' not found.\n"
          ]
        },
        {
          "output_type": "display_data",
          "data": {
            "text/plain": [
              "<Figure size 1200x300 with 1 Axes>"
            ],
            "image/png": "[encoded data removed]"
          },
          "metadata": {}
        }
      ],
      "source": [
        "# Plot distribution of daily # of accidents\n",
        "\n",
        "fig, ax = plt.subplots(1, 1, figsize=(12, 3))\n",
        "plt.ylabel('Frequency')\n",
        "plt.xlabel('Number of accidents')\n",
        "plt.hist(np.array(accidents), bins=20)\n",
        "ax.axvline(x=accidents.mean(), ymin=0, ymax=40, color=[1, 0, 0])\n",
        "plt.show()"
      ]
    },
    {
      "cell_type": "markdown",
      "metadata": {
        "id": "uYHPxgkv5IaC"
      },
      "source": [
        "If we have access to the whole *population*, the computation of the **accident rate** in 2013 is a simple operation: the total number of accidents divided by 365. As a measure of quality of this parameter we can also compute the standard deviation."
      ]
    },
    {
      "cell_type": "code",
      "execution_count": 11,
      "metadata": {
        "id": "HDkkrRxR5IaD",
        "outputId": "3c295757-3474-4c34-e03f-3be567e2905f",
        "colab": {
          "base_uri": "https://localhost:8080/"
        }
      },
      "outputs": [
        {
          "output_type": "stream",
          "name": "stdout",
          "text": [
            "Mean: 25.90958904109589 ; STD: 9.108324962464705\n"
          ]
        }
      ],
      "source": [
        "# Print .mean() and .std() of accidents, where \"accidents\" was calculated above\n",
        "\n",
        "print(\"Mean:\", accidents.mean(), \"; STD:\", accidents.std())"
      ]
    },
    {
      "cell_type": "markdown",
      "metadata": {
        "id": "Jrh8MRn05IaD"
      },
      "source": [
        "But now, let's suppose that we have only access to a limited part of the data\n",
        "(the *sample*): the number of accidents during *some days* of 2013. Can we still\n",
        "give an approximation (an *estimate*) to this population mean?"
      ]
    },
    {
      "cell_type": "markdown",
      "metadata": {
        "id": "2yiY3DSU5IaD"
      },
      "source": [
        "## Variability in estimates.\n",
        "\n",
        "Estimates generally vary from one sample to another, and this sampling variation suggests our estimate may be close, but it will not be exactly equal to the parameter.\n",
        "\n",
        "This can be easily checked by generating 10 different samples (composed of 25% of the population) from our population and compute their accident rate estimates:"
      ]
    },
    {
      "cell_type": "code",
      "execution_count": 44,
      "metadata": {
        "id": "PvjZgjOB5IaD",
        "outputId": "2887ab1e-9707-4314-ad5f-afc75e21d661",
        "colab": {
          "base_uri": "https://localhost:8080/"
        }
      },
      "outputs": [
        {
          "output_type": "stream",
          "name": "stdout",
          "text": [
            "Population mean: 25.90958904109589\n",
            "             0  for_testing\n",
            "Date                       \n",
            "2013-01-01  16        False\n",
            "2013-01-02  18        False\n",
            "2013-01-03  17        False\n",
            "2013-01-04  29        False\n",
            "2013-01-05  17        False\n",
            "...         ..          ...\n",
            "2013-12-27  21        False\n",
            "2013-12-28  12        False\n",
            "2013-12-29  13        False\n",
            "2013-12-30  26        False\n",
            "2013-12-31  19        False\n",
            "\n",
            "[365 rows x 2 columns]\n",
            "Sample 0: Mean 26.57\n",
            "Sample 1: Mean 26.40\n",
            "Sample 2: Mean 26.39\n",
            "Sample 3: Mean 25.30\n",
            "Sample 4: Mean 24.16\n",
            "Sample 5: Mean 25.43\n",
            "Sample 6: Mean 26.35\n",
            "Sample 7: Mean 26.10\n",
            "Sample 8: Mean 26.45\n",
            "Sample 9: Mean 27.30\n"
          ]
        }
      ],
      "source": [
        "# Generate 10 samples via np.random\n",
        "# and print their mean (accident rate)\n",
        "\n",
        "df = accidents.to_frame()\n",
        "m = []\n",
        "\n",
        "print(f\"Population mean: {accidents.mean()}\")\n",
        "\n",
        "print(df)\n",
        "\n",
        "for i in range(10):\n",
        "    df['for_testing'] = False # make a new column in df, set all values to False\n",
        "\n",
        "    # get a 25% sample\n",
        "    sampled_ids = np.random.choice(df.index, # provide indexes array to func\n",
        "                                   size=np.int64(np.ceil(df.index.size * 0.25)), # define the sample size.\n",
        "                                   replace=False) # idk\n",
        "    df.loc[sampled_ids, 'for_testing'] = True\n",
        "    accidents_sample = df[df['for_testing'] == True]\n",
        "    m.append(accidents_sample[0].mean())\n",
        "    print('Sample '+str(i)+': Mean', '%.2f' % accidents_sample[0].mean())\n",
        "\n"
      ]
    },
    {
      "cell_type": "code",
      "execution_count": 53,
      "metadata": {
        "id": "6YcTZMFS5IaE",
        "outputId": "d2a87b92-caf2-498f-d161-b562533fca72",
        "colab": {
          "base_uri": "https://localhost:8080/",
          "height": 1000
        }
      },
      "outputs": [
        {
          "output_type": "execute_result",
          "data": {
            "text/plain": [
              "<matplotlib.lines.Line2D at 0x7c73dba3d910>"
            ]
          },
          "metadata": {},
          "execution_count": 53
        },
        {
          "output_type": "stream",
          "name": "stderr",
          "text": [
            "WARNING:matplotlib.font_manager:findfont: Font family 'times' not found.\n",
            "WARNING:matplotlib.font_manager:findfont: Font family 'times' not found.\n",
            "WARNING:matplotlib.font_manager:findfont: Font family 'times' not found.\n",
            "WARNING:matplotlib.font_manager:findfont: Font family 'times' not found.\n",
            "WARNING:matplotlib.font_manager:findfont: Font family 'times' not found.\n",
            "WARNING:matplotlib.font_manager:findfont: Font family 'times' not found.\n",
            "WARNING:matplotlib.font_manager:findfont: Font family 'times' not found.\n",
            "WARNING:matplotlib.font_manager:findfont: Font family 'times' not found.\n",
            "WARNING:matplotlib.font_manager:findfont: Font family 'times' not found.\n",
            "WARNING:matplotlib.font_manager:findfont: Font family 'times' not found.\n",
            "WARNING:matplotlib.font_manager:findfont: Font family 'times' not found.\n",
            "WARNING:matplotlib.font_manager:findfont: Font family 'times' not found.\n",
            "WARNING:matplotlib.font_manager:findfont: Font family 'times' not found.\n",
            "WARNING:matplotlib.font_manager:findfont: Font family 'times' not found.\n",
            "WARNING:matplotlib.font_manager:findfont: Font family 'times' not found.\n",
            "WARNING:matplotlib.font_manager:findfont: Font family 'times' not found.\n",
            "WARNING:matplotlib.font_manager:findfont: Font family 'times' not found.\n",
            "WARNING:matplotlib.font_manager:findfont: Font family 'times' not found.\n",
            "WARNING:matplotlib.font_manager:findfont: Font family 'times' not found.\n",
            "WARNING:matplotlib.font_manager:findfont: Font family 'times' not found.\n",
            "WARNING:matplotlib.font_manager:findfont: Font family 'times' not found.\n",
            "WARNING:matplotlib.font_manager:findfont: Font family 'times' not found.\n",
            "WARNING:matplotlib.font_manager:findfont: Font family 'times' not found.\n",
            "WARNING:matplotlib.font_manager:findfont: Font family 'times' not found.\n",
            "WARNING:matplotlib.font_manager:findfont: Font family 'times' not found.\n",
            "WARNING:matplotlib.font_manager:findfont: Font family 'times' not found.\n",
            "WARNING:matplotlib.font_manager:findfont: Font family 'times' not found.\n",
            "WARNING:matplotlib.font_manager:findfont: Font family 'times' not found.\n",
            "WARNING:matplotlib.font_manager:findfont: Font family 'times' not found.\n",
            "WARNING:matplotlib.font_manager:findfont: Font family 'times' not found.\n",
            "WARNING:matplotlib.font_manager:findfont: Font family 'times' not found.\n",
            "WARNING:matplotlib.font_manager:findfont: Font family 'times' not found.\n",
            "WARNING:matplotlib.font_manager:findfont: Font family 'times' not found.\n",
            "WARNING:matplotlib.font_manager:findfont: Font family 'times' not found.\n",
            "WARNING:matplotlib.font_manager:findfont: Font family 'times' not found.\n",
            "WARNING:matplotlib.font_manager:findfont: Font family 'times' not found.\n",
            "WARNING:matplotlib.font_manager:findfont: Font family 'times' not found.\n",
            "WARNING:matplotlib.font_manager:findfont: Font family 'times' not found.\n",
            "WARNING:matplotlib.font_manager:findfont: Font family 'times' not found.\n",
            "WARNING:matplotlib.font_manager:findfont: Font family 'times' not found.\n",
            "WARNING:matplotlib.font_manager:findfont: Font family 'times' not found.\n",
            "WARNING:matplotlib.font_manager:findfont: Font family 'times' not found.\n",
            "WARNING:matplotlib.font_manager:findfont: Font family 'times' not found.\n",
            "WARNING:matplotlib.font_manager:findfont: Font family 'times' not found.\n"
          ]
        },
        {
          "output_type": "display_data",
          "data": {
            "text/plain": [
              "<Figure size 1200x200 with 1 Axes>"
            ],
            "image/png": "[encoded data removed]"
          },
          "metadata": {}
        }
      ],
      "source": [
        "fig, ax = plt.subplots(1, 1, figsize=(12, 2))\n",
        "x = range(10)\n",
        "ax.step(x,m, where='mid')\n",
        "ax.set_ylabel('Mean')\n",
        "ax.set_xlabel('Sample')\n",
        "ax.axhline(y=accidents.mean(), color=[1, 0, 0])"
      ]
    },
    {
      "cell_type": "markdown",
      "metadata": {
        "id": "ZW6ySjnm5IaF"
      },
      "source": [
        "Accident rate estimates can range from 24 accident per day to 27 accidents per day, depending on the sample. How can we give a unique value for the estimate?"
      ]
    },
    {
      "cell_type": "markdown",
      "metadata": {
        "id": "mH4fmXab5IaF"
      },
      "source": [
        "### Sampling distribution of point estimates\n",
        "\n",
        "The most intuitive way to go about giving a value for the estimate is to simply take the *sample\n",
        "mean*. The sample mean is a point estimate of the population mean. If we\n",
        "can only choose one value to estimate the population mean, this is our best\n",
        "guess.\n",
        "\n",
        "Let's computer the sample means for a set of 10000 samples, each one composed of 200 days:"
      ]
    },
    {
      "cell_type": "code",
      "execution_count": 54,
      "metadata": {
        "id": "GRhXwGEC5IaF",
        "outputId": "41e9203d-8979-451e-d3d0-e15cb54a9ddd",
        "colab": {
          "base_uri": "https://localhost:8080/",
          "height": 1000
        }
      },
      "outputs": [
        {
          "output_type": "display_data",
          "data": {
            "text/plain": [
              "<Figure size 640x480 with 0 Axes>"
            ]
          },
          "metadata": {}
        },
        {
          "output_type": "stream",
          "name": "stderr",
          "text": [
            "WARNING:matplotlib.font_manager:findfont: Font family 'times' not found.\n",
            "WARNING:matplotlib.font_manager:findfont: Font family 'times' not found.\n",
            "WARNING:matplotlib.font_manager:findfont: Font family 'times' not found.\n",
            "WARNING:matplotlib.font_manager:findfont: Font family 'times' not found.\n",
            "WARNING:matplotlib.font_manager:findfont: Font family 'times' not found.\n",
            "WARNING:matplotlib.font_manager:findfont: Font family 'times' not found.\n",
            "WARNING:matplotlib.font_manager:findfont: Font family 'times' not found.\n",
            "WARNING:matplotlib.font_manager:findfont: Font family 'times' not found.\n",
            "WARNING:matplotlib.font_manager:findfont: Font family 'times' not found.\n",
            "WARNING:matplotlib.font_manager:findfont: Font family 'times' not found.\n",
            "WARNING:matplotlib.font_manager:findfont: Font family 'times' not found.\n",
            "WARNING:matplotlib.font_manager:findfont: Font family 'times' not found.\n",
            "WARNING:matplotlib.font_manager:findfont: Font family 'times' not found.\n",
            "WARNING:matplotlib.font_manager:findfont: Font family 'times' not found.\n",
            "WARNING:matplotlib.font_manager:findfont: Font family 'times' not found.\n",
            "WARNING:matplotlib.font_manager:findfont: Font family 'times' not found.\n",
            "WARNING:matplotlib.font_manager:findfont: Font family 'times' not found.\n",
            "WARNING:matplotlib.font_manager:findfont: Font family 'times' not found.\n",
            "WARNING:matplotlib.font_manager:findfont: Font family 'times' not found.\n",
            "WARNING:matplotlib.font_manager:findfont: Font family 'times' not found.\n",
            "WARNING:matplotlib.font_manager:findfont: Font family 'times' not found.\n",
            "WARNING:matplotlib.font_manager:findfont: Font family 'times' not found.\n",
            "WARNING:matplotlib.font_manager:findfont: Font family 'times' not found.\n",
            "WARNING:matplotlib.font_manager:findfont: Font family 'times' not found.\n",
            "WARNING:matplotlib.font_manager:findfont: Font family 'times' not found.\n",
            "WARNING:matplotlib.font_manager:findfont: Font family 'times' not found.\n",
            "WARNING:matplotlib.font_manager:findfont: Font family 'times' not found.\n",
            "WARNING:matplotlib.font_manager:findfont: Font family 'times' not found.\n",
            "WARNING:matplotlib.font_manager:findfont: Font family 'times' not found.\n",
            "WARNING:matplotlib.font_manager:findfont: Font family 'times' not found.\n",
            "WARNING:matplotlib.font_manager:findfont: Font family 'times' not found.\n",
            "WARNING:matplotlib.font_manager:findfont: Font family 'times' not found.\n",
            "WARNING:matplotlib.font_manager:findfont: Font family 'times' not found.\n",
            "WARNING:matplotlib.font_manager:findfont: Font family 'times' not found.\n",
            "WARNING:matplotlib.font_manager:findfont: Font family 'times' not found.\n",
            "WARNING:matplotlib.font_manager:findfont: Font family 'times' not found.\n",
            "WARNING:matplotlib.font_manager:findfont: Font family 'times' not found.\n",
            "WARNING:matplotlib.font_manager:findfont: Font family 'times' not found.\n",
            "WARNING:matplotlib.font_manager:findfont: Font family 'times' not found.\n",
            "WARNING:matplotlib.font_manager:findfont: Font family 'times' not found.\n",
            "WARNING:matplotlib.font_manager:findfont: Font family 'times' not found.\n",
            "WARNING:matplotlib.font_manager:findfont: Font family 'times' not found.\n",
            "WARNING:matplotlib.font_manager:findfont: Font family 'times' not found.\n",
            "WARNING:matplotlib.font_manager:findfont: Font family 'times' not found.\n",
            "WARNING:matplotlib.font_manager:findfont: Font family 'times' not found.\n",
            "WARNING:matplotlib.font_manager:findfont: Font family 'times' not found.\n"
          ]
        },
        {
          "output_type": "display_data",
          "data": {
            "text/plain": [
              "<Figure size 1200x300 with 1 Axes>"
            ],
            "image/png": "[encoded data removed]"
          },
          "metadata": {}
        },
        {
          "output_type": "stream",
          "name": "stdout",
          "text": [
            "Sample mean: 25.9072775\n"
          ]
        }
      ],
      "source": [
        "plt.autumn() # define the colormap\n",
        "\n",
        "# population\n",
        "df = accidents.to_frame()\n",
        "N_test = 10000\n",
        "elements = 200\n",
        "\n",
        "# mean array of samples\n",
        "means = [0] * N_test\n",
        "\n",
        "# sample generation\n",
        "for i in range(N_test):\n",
        "    rows = np.random.choice(df.index.values, elements)\n",
        "    sampled_df = df.loc[rows]\n",
        "    means[i] = sampled_df.mean()\n",
        "\n",
        "fig, ax = plt.subplots(1, 1, figsize=(12,3))\n",
        "\n",
        "plt.hist(np.array(means),bins=50)\n",
        "plt.ylabel('Frequency')\n",
        "plt.xlabel('Sample mean value')\n",
        "ax.axvline(x = np.array(means).mean(),\n",
        "           ymin = 0,\n",
        "           ymax = 700,\n",
        "           color = [1, 0, 0])\n",
        "plt.show()\n",
        "\n",
        "print(\"Sample mean:\", np.array(means).mean())"
      ]
    },
    {
      "cell_type": "markdown",
      "metadata": {
        "id": "lvxwEpSU5IaF"
      },
      "source": [
        "This is the **sampling distribution of the mean**. From it we could estimate the most probable value of the mean and also its standard deviation, but in the real world we will not have access to this function!"
      ]
    },
    {
      "cell_type": "markdown",
      "metadata": {
        "id": "te9SDdQc5IaF"
      },
      "source": [
        "### Standard error of the mean\n",
        "\n",
        "Noe let's suppose that we have only one sample of the propulation. As comented before, the mean estimate from that sample may be close, but it will not be exactly equal to our parameter of interest (that can only be computed if we have access to the full population). For this reason it is interesting to measure its variability with respect to the sampling process. To this end we can use the *standard error of the mean*.\n",
        "\n",
        "It can be mathematically shown that given $n$ independent observations $\\{ x_i \\}_{i=1,..,n}$ from a population with a standard deviation $\\sigma_x$, the standard deviation of the sample mean $\\sigma_{\\bar{x}}$, or **standard error** is:\n",
        "\n",
        "$$ SE = \\frac{\\sigma_{x}}{\\sqrt{n}} $$\n",
        "\n",
        "This allows **to estimate the standard deviation of the sample mean** even if we cannot perform the simulation process (f.e. because we have no access to the population). Usually, $\\sigma_x$ is not known and it is substituted by its empirical estimate (that is sufficiently good of $n>30$ and the population distribution is not skewed):"
      ]
    },
    {
      "cell_type": "code",
      "execution_count": null,
      "metadata": {
        "id": "EGFh304l5IaG"
      },
      "outputs": [],
      "source": [
        "rows = np.random.choice(df.index.values, 200)\n",
        "sampled_df = df.loc[rows]\n",
        "est_sigma_mean = sampled_df.std()/math.sqrt(200)\n",
        "\n",
        "print('Direct estimation of SE from one sample of 200 elements:', \\\n",
        "       est_sigma_mean[0])\n",
        "print('Estimation of the SE by simulating 10000 samples of 200 elements:',  \\\n",
        "       np.array(means).std())"
      ]
    },
    {
      "cell_type": "markdown",
      "metadata": {
        "id": "midvnq1j5IaG"
      },
      "source": [
        "We could be also interested in quantifying the standard deviation of other estimates: median, standard deviation, etc., but unlike in the case of the sample mean, there is no simple formula for the standard\n",
        "error of other interesting sample estimates, such as the median."
      ]
    },
    {
      "cell_type": "markdown",
      "metadata": {
        "id": "0qcUbBKN5IaG"
      },
      "source": [
        "Let's consider from now the whole accidents dataset as a sample from an hypothetical population (this is the most common situation when analyzing real data!)."
      ]
    },
    {
      "cell_type": "markdown",
      "metadata": {
        "id": "0DmqKrDD5IaG"
      },
      "source": [
        "### Bootstrapping the standard error of the mean.\n",
        "\n",
        "A modern alternative to the traditional approach to statistical inference is\n",
        "the *bootstrapping method*. In the bootstrap, we draw $N$ observations with\n",
        "replacement from the original data to create a bootstrap sample or resample.\n",
        "Then, we can calculate the mean for this resample. By repeating this process\n",
        "a large number of times we can built a good approximation of the mean\n",
        "sampling distribution."
      ]
    },
    {
      "cell_type": "code",
      "execution_count": 55,
      "metadata": {
        "id": "CHDrRZc25IaG",
        "outputId": "634deb47-f0c5-46df-ccd1-0c8af3d0ca99",
        "colab": {
          "base_uri": "https://localhost:8080/"
        }
      },
      "outputs": [
        {
          "output_type": "stream",
          "name": "stderr",
          "text": [
            "/tmp/ipython-input-55-166709977.py:5: FutureWarning: Series.__getitem__ treating keys as positions is deprecated. In a future version, integer keys will always be treated as labels (consistent with DataFrame behavior). To access a value by position, use `ser.iloc[pos]`\n",
            "  sample = [X[_] for _ in np.random.randint(len(X), size=len(X))]\n"
          ]
        },
        {
          "output_type": "stream",
          "name": "stdout",
          "text": [
            "Mean estimate: 25.914414246575344\n"
          ]
        }
      ],
      "source": [
        "# This function takes:\n",
        "# X = array of numbers\n",
        "# numberb = total # of samples required\n",
        "\n",
        "# For each sample generated (via bootstrap), it will calculate it's mean and append it to the array\n",
        "# So the end result is an array of bootstrapped sample means\n",
        "\n",
        "def meanBootstrap(X,numberb):\n",
        "    import numpy as np\n",
        "    x = [0]*numberb\n",
        "    for i in range(numberb):\n",
        "        sample = [X[_] for _ in np.random.randint(len(X), size=len(X))]\n",
        "        x[i] = np.mean(sample)\n",
        "    return x\n",
        "\n",
        "m = meanBootstrap(accidents, 10000)\n",
        "print(\"Mean estimate:\", np.mean(m))"
      ]
    },
    {
      "cell_type": "code",
      "execution_count": 56,
      "metadata": {
        "id": "HR8qrfmP5IaG",
        "outputId": "93cd7ddf-28ff-4a27-b694-60ef93da3f68",
        "colab": {
          "base_uri": "https://localhost:8080/",
          "height": 1000
        }
      },
      "outputs": [
        {
          "output_type": "execute_result",
          "data": {
            "text/plain": [
              "<matplotlib.lines.Line2D at 0x7c73dc2a5410>"
            ]
          },
          "metadata": {},
          "execution_count": 56
        },
        {
          "output_type": "stream",
          "name": "stderr",
          "text": [
            "WARNING:matplotlib.font_manager:findfont: Font family 'times' not found.\n",
            "WARNING:matplotlib.font_manager:findfont: Font family 'times' not found.\n",
            "WARNING:matplotlib.font_manager:findfont: Font family 'times' not found.\n",
            "WARNING:matplotlib.font_manager:findfont: Font family 'times' not found.\n",
            "WARNING:matplotlib.font_manager:findfont: Font family 'times' not found.\n",
            "WARNING:matplotlib.font_manager:findfont: Font family 'times' not found.\n",
            "WARNING:matplotlib.font_manager:findfont: Font family 'times' not found.\n",
            "WARNING:matplotlib.font_manager:findfont: Font family 'times' not found.\n",
            "WARNING:matplotlib.font_manager:findfont: Font family 'times' not found.\n",
            "WARNING:matplotlib.font_manager:findfont: Font family 'times' not found.\n",
            "WARNING:matplotlib.font_manager:findfont: Font family 'times' not found.\n",
            "WARNING:matplotlib.font_manager:findfont: Font family 'times' not found.\n",
            "WARNING:matplotlib.font_manager:findfont: Font family 'times' not found.\n",
            "WARNING:matplotlib.font_manager:findfont: Font family 'times' not found.\n",
            "WARNING:matplotlib.font_manager:findfont: Font family 'times' not found.\n",
            "WARNING:matplotlib.font_manager:findfont: Font family 'times' not found.\n",
            "WARNING:matplotlib.font_manager:findfont: Font family 'times' not found.\n",
            "WARNING:matplotlib.font_manager:findfont: Font family 'times' not found.\n",
            "WARNING:matplotlib.font_manager:findfont: Font family 'times' not found.\n",
            "WARNING:matplotlib.font_manager:findfont: Font family 'times' not found.\n",
            "WARNING:matplotlib.font_manager:findfont: Font family 'times' not found.\n",
            "WARNING:matplotlib.font_manager:findfont: Font family 'times' not found.\n",
            "WARNING:matplotlib.font_manager:findfont: Font family 'times' not found.\n",
            "WARNING:matplotlib.font_manager:findfont: Font family 'times' not found.\n",
            "WARNING:matplotlib.font_manager:findfont: Font family 'times' not found.\n",
            "WARNING:matplotlib.font_manager:findfont: Font family 'times' not found.\n",
            "WARNING:matplotlib.font_manager:findfont: Font family 'times' not found.\n",
            "WARNING:matplotlib.font_manager:findfont: Font family 'times' not found.\n",
            "WARNING:matplotlib.font_manager:findfont: Font family 'times' not found.\n",
            "WARNING:matplotlib.font_manager:findfont: Font family 'times' not found.\n",
            "WARNING:matplotlib.font_manager:findfont: Font family 'times' not found.\n",
            "WARNING:matplotlib.font_manager:findfont: Font family 'times' not found.\n",
            "WARNING:matplotlib.font_manager:findfont: Font family 'times' not found.\n",
            "WARNING:matplotlib.font_manager:findfont: Font family 'times' not found.\n",
            "WARNING:matplotlib.font_manager:findfont: Font family 'times' not found.\n",
            "WARNING:matplotlib.font_manager:findfont: Font family 'times' not found.\n",
            "WARNING:matplotlib.font_manager:findfont: Font family 'times' not found.\n",
            "WARNING:matplotlib.font_manager:findfont: Font family 'times' not found.\n",
            "WARNING:matplotlib.font_manager:findfont: Font family 'times' not found.\n",
            "WARNING:matplotlib.font_manager:findfont: Font family 'times' not found.\n",
            "WARNING:matplotlib.font_manager:findfont: Font family 'times' not found.\n",
            "WARNING:matplotlib.font_manager:findfont: Font family 'times' not found.\n",
            "WARNING:matplotlib.font_manager:findfont: Font family 'times' not found.\n",
            "WARNING:matplotlib.font_manager:findfont: Font family 'times' not found.\n",
            "WARNING:matplotlib.font_manager:findfont: Font family 'times' not found.\n",
            "WARNING:matplotlib.font_manager:findfont: Font family 'times' not found.\n",
            "WARNING:matplotlib.font_manager:findfont: Font family 'times' not found.\n",
            "WARNING:matplotlib.font_manager:findfont: Font family 'times' not found.\n",
            "WARNING:matplotlib.font_manager:findfont: Font family 'times' not found.\n",
            "WARNING:matplotlib.font_manager:findfont: Font family 'times' not found.\n",
            "WARNING:matplotlib.font_manager:findfont: Font family 'times' not found.\n",
            "WARNING:matplotlib.font_manager:findfont: Font family 'times' not found.\n",
            "WARNING:matplotlib.font_manager:findfont: Font family 'times' not found.\n",
            "WARNING:matplotlib.font_manager:findfont: Font family 'times' not found.\n",
            "WARNING:matplotlib.font_manager:findfont: Font family 'times' not found.\n",
            "WARNING:matplotlib.font_manager:findfont: Font family 'times' not found.\n",
            "WARNING:matplotlib.font_manager:findfont: Font family 'times' not found.\n",
            "WARNING:matplotlib.font_manager:findfont: Font family 'times' not found.\n",
            "WARNING:matplotlib.font_manager:findfont: Font family 'times' not found.\n",
            "WARNING:matplotlib.font_manager:findfont: Font family 'times' not found.\n",
            "WARNING:matplotlib.font_manager:findfont: Font family 'times' not found.\n",
            "WARNING:matplotlib.font_manager:findfont: Font family 'times' not found.\n",
            "WARNING:matplotlib.font_manager:findfont: Font family 'times' not found.\n",
            "WARNING:matplotlib.font_manager:findfont: Font family 'times' not found.\n"
          ]
        },
        {
          "output_type": "display_data",
          "data": {
            "text/plain": [
              "<Figure size 1200x300 with 1 Axes>"
            ],
            "image/png": "[encoded data removed]"
          },
          "metadata": {}
        }
      ],
      "source": [
        "fig, ax = plt.subplots(1, 1, figsize=(12, 3))\n",
        "plt.ylabel('Frequency')\n",
        "plt.xlabel('Sample mean value')\n",
        "plt.hist(m,\n",
        "         bins = 50,\n",
        "         density = True)\n",
        "ax.axvline(x = np.mean(m),\n",
        "           ymin = 0.0,\n",
        "           ymax = 1.0,\n",
        "           color = [1, 0, 0])"
      ]
    },
    {
      "cell_type": "markdown",
      "metadata": {
        "id": "c_o8Tg235IaH"
      },
      "source": [
        "The boostrapping method can be applied to other simple estimates such as\n",
        "the median or the variance:"
      ]
    },
    {
      "cell_type": "code",
      "execution_count": 57,
      "metadata": {
        "id": "DXnrCGyn5IaH",
        "outputId": "534ba637-a044-47b3-e58e-f41e6dfe8b25",
        "colab": {
          "base_uri": "https://localhost:8080/",
          "height": 1000
        }
      },
      "outputs": [
        {
          "output_type": "stream",
          "name": "stderr",
          "text": [
            "/tmp/ipython-input-57-367771509.py:7: FutureWarning: Series.__getitem__ treating keys as positions is deprecated. In a future version, integer keys will always be treated as labels (consistent with DataFrame behavior). To access a value by position, use `ser.iloc[pos]`\n",
            "  sample = [X[_] for _ in np.random.randint(len(X), size=len(X))]\n"
          ]
        },
        {
          "output_type": "stream",
          "name": "stdout",
          "text": [
            "Median estimate: 26.2915\n"
          ]
        },
        {
          "output_type": "execute_result",
          "data": {
            "text/plain": [
              "<matplotlib.lines.Line2D at 0x7c73dac45290>"
            ]
          },
          "metadata": {},
          "execution_count": 57
        },
        {
          "output_type": "stream",
          "name": "stderr",
          "text": [
            "WARNING:matplotlib.font_manager:findfont: Font family 'times' not found.\n",
            "WARNING:matplotlib.font_manager:findfont: Font family 'times' not found.\n",
            "WARNING:matplotlib.font_manager:findfont: Font family 'times' not found.\n",
            "WARNING:matplotlib.font_manager:findfont: Font family 'times' not found.\n",
            "WARNING:matplotlib.font_manager:findfont: Font family 'times' not found.\n",
            "WARNING:matplotlib.font_manager:findfont: Font family 'times' not found.\n",
            "WARNING:matplotlib.font_manager:findfont: Font family 'times' not found.\n",
            "WARNING:matplotlib.font_manager:findfont: Font family 'times' not found.\n",
            "WARNING:matplotlib.font_manager:findfont: Font family 'times' not found.\n",
            "WARNING:matplotlib.font_manager:findfont: Font family 'times' not found.\n",
            "WARNING:matplotlib.font_manager:findfont: Font family 'times' not found.\n",
            "WARNING:matplotlib.font_manager:findfont: Font family 'times' not found.\n",
            "WARNING:matplotlib.font_manager:findfont: Font family 'times' not found.\n",
            "WARNING:matplotlib.font_manager:findfont: Font family 'times' not found.\n",
            "WARNING:matplotlib.font_manager:findfont: Font family 'times' not found.\n",
            "WARNING:matplotlib.font_manager:findfont: Font family 'times' not found.\n",
            "WARNING:matplotlib.font_manager:findfont: Font family 'times' not found.\n",
            "WARNING:matplotlib.font_manager:findfont: Font family 'times' not found.\n",
            "WARNING:matplotlib.font_manager:findfont: Font family 'times' not found.\n",
            "WARNING:matplotlib.font_manager:findfont: Font family 'times' not found.\n",
            "WARNING:matplotlib.font_manager:findfont: Font family 'times' not found.\n",
            "WARNING:matplotlib.font_manager:findfont: Font family 'times' not found.\n",
            "WARNING:matplotlib.font_manager:findfont: Font family 'times' not found.\n",
            "WARNING:matplotlib.font_manager:findfont: Font family 'times' not found.\n",
            "WARNING:matplotlib.font_manager:findfont: Font family 'times' not found.\n",
            "WARNING:matplotlib.font_manager:findfont: Font family 'times' not found.\n",
            "WARNING:matplotlib.font_manager:findfont: Font family 'times' not found.\n",
            "WARNING:matplotlib.font_manager:findfont: Font family 'times' not found.\n",
            "WARNING:matplotlib.font_manager:findfont: Font family 'times' not found.\n",
            "WARNING:matplotlib.font_manager:findfont: Font family 'times' not found.\n",
            "WARNING:matplotlib.font_manager:findfont: Font family 'times' not found.\n",
            "WARNING:matplotlib.font_manager:findfont: Font family 'times' not found.\n",
            "WARNING:matplotlib.font_manager:findfont: Font family 'times' not found.\n",
            "WARNING:matplotlib.font_manager:findfont: Font family 'times' not found.\n",
            "WARNING:matplotlib.font_manager:findfont: Font family 'times' not found.\n",
            "WARNING:matplotlib.font_manager:findfont: Font family 'times' not found.\n",
            "WARNING:matplotlib.font_manager:findfont: Font family 'times' not found.\n",
            "WARNING:matplotlib.font_manager:findfont: Font family 'times' not found.\n",
            "WARNING:matplotlib.font_manager:findfont: Font family 'times' not found.\n",
            "WARNING:matplotlib.font_manager:findfont: Font family 'times' not found.\n",
            "WARNING:matplotlib.font_manager:findfont: Font family 'times' not found.\n",
            "WARNING:matplotlib.font_manager:findfont: Font family 'times' not found.\n",
            "WARNING:matplotlib.font_manager:findfont: Font family 'times' not found.\n",
            "WARNING:matplotlib.font_manager:findfont: Font family 'times' not found.\n",
            "WARNING:matplotlib.font_manager:findfont: Font family 'times' not found.\n",
            "WARNING:matplotlib.font_manager:findfont: Font family 'times' not found.\n",
            "WARNING:matplotlib.font_manager:findfont: Font family 'times' not found.\n",
            "WARNING:matplotlib.font_manager:findfont: Font family 'times' not found.\n",
            "WARNING:matplotlib.font_manager:findfont: Font family 'times' not found.\n",
            "WARNING:matplotlib.font_manager:findfont: Font family 'times' not found.\n",
            "WARNING:matplotlib.font_manager:findfont: Font family 'times' not found.\n",
            "WARNING:matplotlib.font_manager:findfont: Font family 'times' not found.\n",
            "WARNING:matplotlib.font_manager:findfont: Font family 'times' not found.\n",
            "WARNING:matplotlib.font_manager:findfont: Font family 'times' not found.\n",
            "WARNING:matplotlib.font_manager:findfont: Font family 'times' not found.\n",
            "WARNING:matplotlib.font_manager:findfont: Font family 'times' not found.\n",
            "WARNING:matplotlib.font_manager:findfont: Font family 'times' not found.\n",
            "WARNING:matplotlib.font_manager:findfont: Font family 'times' not found.\n",
            "WARNING:matplotlib.font_manager:findfont: Font family 'times' not found.\n",
            "WARNING:matplotlib.font_manager:findfont: Font family 'times' not found.\n",
            "WARNING:matplotlib.font_manager:findfont: Font family 'times' not found.\n",
            "WARNING:matplotlib.font_manager:findfont: Font family 'times' not found.\n",
            "WARNING:matplotlib.font_manager:findfont: Font family 'times' not found.\n",
            "WARNING:matplotlib.font_manager:findfont: Font family 'times' not found.\n"
          ]
        },
        {
          "output_type": "display_data",
          "data": {
            "text/plain": [
              "<Figure size 1200x300 with 1 Axes>"
            ],
            "image/png": "[encoded data removed]"
          },
          "metadata": {}
        }
      ],
      "source": [
        "# Same as prv but finds medians of the sample instead\n",
        "\n",
        "def medBootstrap(X,numberb):\n",
        "    import numpy as np\n",
        "    x = [0]*numberb\n",
        "    for i in range(numberb):\n",
        "        sample = [X[_] for _ in np.random.randint(len(X), size=len(X))]\n",
        "        x[i] = np.median(sample)\n",
        "    return x\n",
        "\n",
        "med = medBootstrap(accidents, 10000)\n",
        "print(\"Median estimate:\", np.mean(med) )\n",
        "fig, ax = plt.subplots(1, 1, figsize=(12, 3))\n",
        "plt.hist(med, bins=5, density=True)\n",
        "plt.ylabel('Frequency')\n",
        "plt.xlabel('Sample median value')\n",
        "ax.axvline(x = np.array(med).mean(),\n",
        "           ymin = 0,\n",
        "           ymax = 1.0,\n",
        "           color = [1, 0, 0])"
      ]
    },
    {
      "cell_type": "markdown",
      "metadata": {
        "id": "BJnXKGb15IaH"
      },
      "source": [
        "## Confidence intervals.\n",
        "\n",
        "A point estimate provides a single plausible value for a parameter. However,\n",
        "as we have seen a point estimate is rarely perfect; usually there is some error\n",
        "in the estimate. That is why we have proposed to use the standard error as\n",
        "a measure of its variability.\n",
        "\n",
        "As an alternative, a next logical step would be to provide a **plausible range of\n",
        "values** for the parameter. A plausible range of values for the sample parameter\n",
        "is called a **confidence interval**.\n",
        "\n",
        "We will base the definition of confidence interval on two ideas:\n",
        "\n",
        "+ Our point estimate is the most plausible value of the parameter, so it makes sense to build the confidence interval around the point estimate.\n",
        "\n",
        "+ The plausability of a range of values can be defined from the sampling distribution of the estimate.\n",
        "\n",
        "In order to define an interval, we can make use of a well\n",
        "known result from probability that applies to normal distributions: roughly\n",
        "95% of the time our estimate will be within 1.96 standard errors of the true\n",
        "mean of the distribution."
      ]
    },
    {
      "cell_type": "code",
      "execution_count": 58,
      "metadata": {
        "id": "mJy10vXj5IaH",
        "outputId": "bd19390f-6d93-494a-bfa2-e26171faa4a6",
        "colab": {
          "base_uri": "https://localhost:8080/"
        }
      },
      "outputs": [
        {
          "output_type": "stream",
          "name": "stdout",
          "text": [
            "Confidence interval: [np.float64(24.975156065800284), np.float64(26.8440220163915)]\n"
          ]
        }
      ],
      "source": [
        "m = accidents.mean()\n",
        "se = accidents.std()/math.sqrt(len(accidents))\n",
        "ci = [m - se*1.96, m + se*1.96]\n",
        "print(\"Confidence interval:\", ci)"
      ]
    },
    {
      "cell_type": "markdown",
      "metadata": {
        "id": "OXHetU3m5IaI"
      },
      "source": [
        "This is how we would compute a 95% confidence interval of the sample mean by using bootstrapping:\n",
        "\n",
        "1. Repeat the following steps a large number $M$ of times:\n",
        "    + Draw $N$ observations with replacement from the original data to create a bootstrap sample or resample;\n",
        "    + Calculate the mean for the resample.\n",
        "2. Calculate the **mean** of your $M$ values of the sample statistic. This process gives you a “bootstrapped” estimate of the sample statistic.\n",
        "3. Calculate the **standard deviation** of your $M$ values of the sample statistic. This process gives you a “bootstrapped” estimate of the **SE** of the sample statistic.\n",
        "4. Obtain the 2.5th and 97.5th centiles of your $M$ values values of the sample statistic."
      ]
    },
    {
      "cell_type": "code",
      "execution_count": 59,
      "metadata": {
        "id": "J4VfNh1h5IaI",
        "outputId": "bfe539ef-aeb4-4ff9-8832-ea2c96d1da54",
        "colab": {
          "base_uri": "https://localhost:8080/"
        }
      },
      "outputs": [
        {
          "output_type": "stream",
          "name": "stderr",
          "text": [
            "/tmp/ipython-input-55-166709977.py:5: FutureWarning: Series.__getitem__ treating keys as positions is deprecated. In a future version, integer keys will always be treated as labels (consistent with DataFrame behavior). To access a value by position, use `ser.iloc[pos]`\n",
            "  sample = [X[_] for _ in np.random.randint(len(X), size=len(X))]\n"
          ]
        },
        {
          "output_type": "stream",
          "name": "stdout",
          "text": [
            "Mean estimate: 25.907341917808218\n",
            "SE of the estimate: 0.4698041759714947\n",
            "Confidence interval: [np.float64(24.972602739726028), np.float64(26.824657534246576)]\n"
          ]
        }
      ],
      "source": [
        "m = meanBootstrap(accidents, 10000)\n",
        "sample_mean = np.mean(m)\n",
        "sample_se =  np.std(m)\n",
        "\n",
        "print(\"Mean estimate:\", sample_mean)\n",
        "print(\"SE of the estimate:\", sample_se)\n",
        "\n",
        "ci = [np.percentile(m,2.5), np.percentile(m,97.5)]\n",
        "print(\"Confidence interval:\", ci)"
      ]
    },
    {
      "cell_type": "markdown",
      "metadata": {
        "id": "NioR68785IaJ"
      },
      "source": [
        "### Waht is the real meaning of CI?\n",
        "\n",
        "The real meaning of \"confidence\" is not evident and it must be understood\n",
        "from the point of view of the generating process.\n",
        "\n",
        "Suppose we take many (infinite) samples from a population and built a\n",
        "95% confidence interval from each sample. Then about 95% of those intervals\n",
        "would contain the actual parameter.\n",
        "\n",
        "This can be easily showed by simulating a large number of samples and checking how many intervals contain the true parameter:"
      ]
    },
    {
      "cell_type": "code",
      "execution_count": 60,
      "metadata": {
        "id": "8ZYaQUhF5IaJ",
        "outputId": "74037382-8505-4ee9-dfec-c52c65308c5d",
        "colab": {
          "base_uri": "https://localhost:8080/",
          "height": 1000
        }
      },
      "outputs": [
        {
          "output_type": "stream",
          "name": "stderr",
          "text": [
            "WARNING:matplotlib.font_manager:findfont: Font family 'times' not found.\n",
            "WARNING:matplotlib.font_manager:findfont: Font family 'times' not found.\n",
            "WARNING:matplotlib.font_manager:findfont: Font family 'times' not found.\n",
            "WARNING:matplotlib.font_manager:findfont: Font family 'times' not found.\n",
            "WARNING:matplotlib.font_manager:findfont: Font family 'times' not found.\n",
            "WARNING:matplotlib.font_manager:findfont: Font family 'times' not found.\n",
            "WARNING:matplotlib.font_manager:findfont: Font family 'times' not found.\n",
            "WARNING:matplotlib.font_manager:findfont: Font family 'times' not found.\n",
            "WARNING:matplotlib.font_manager:findfont: Font family 'times' not found.\n",
            "WARNING:matplotlib.font_manager:findfont: Font family 'times' not found.\n",
            "WARNING:matplotlib.font_manager:findfont: Font family 'times' not found.\n",
            "WARNING:matplotlib.font_manager:findfont: Font family 'times' not found.\n",
            "WARNING:matplotlib.font_manager:findfont: Font family 'times' not found.\n",
            "WARNING:matplotlib.font_manager:findfont: Font family 'times' not found.\n",
            "WARNING:matplotlib.font_manager:findfont: Font family 'times' not found.\n",
            "WARNING:matplotlib.font_manager:findfont: Font family 'times' not found.\n",
            "WARNING:matplotlib.font_manager:findfont: Font family 'times' not found.\n",
            "WARNING:matplotlib.font_manager:findfont: Font family 'times' not found.\n",
            "WARNING:matplotlib.font_manager:findfont: Font family 'times' not found.\n",
            "WARNING:matplotlib.font_manager:findfont: Font family 'times' not found.\n",
            "WARNING:matplotlib.font_manager:findfont: Font family 'times' not found.\n",
            "WARNING:matplotlib.font_manager:findfont: Font family 'times' not found.\n",
            "WARNING:matplotlib.font_manager:findfont: Font family 'times' not found.\n",
            "WARNING:matplotlib.font_manager:findfont: Font family 'times' not found.\n",
            "WARNING:matplotlib.font_manager:findfont: Font family 'times' not found.\n",
            "WARNING:matplotlib.font_manager:findfont: Font family 'times' not found.\n",
            "WARNING:matplotlib.font_manager:findfont: Font family 'times' not found.\n",
            "WARNING:matplotlib.font_manager:findfont: Font family 'times' not found.\n",
            "WARNING:matplotlib.font_manager:findfont: Font family 'times' not found.\n",
            "WARNING:matplotlib.font_manager:findfont: Font family 'times' not found.\n",
            "WARNING:matplotlib.font_manager:findfont: Font family 'times' not found.\n",
            "WARNING:matplotlib.font_manager:findfont: Font family 'times' not found.\n",
            "WARNING:matplotlib.font_manager:findfont: Font family 'times' not found.\n",
            "WARNING:matplotlib.font_manager:findfont: Font family 'times' not found.\n",
            "WARNING:matplotlib.font_manager:findfont: Font family 'times' not found.\n",
            "WARNING:matplotlib.font_manager:findfont: Font family 'times' not found.\n",
            "WARNING:matplotlib.font_manager:findfont: Font family 'times' not found.\n",
            "WARNING:matplotlib.font_manager:findfont: Font family 'times' not found.\n",
            "WARNING:matplotlib.font_manager:findfont: Font family 'times' not found.\n",
            "WARNING:matplotlib.font_manager:findfont: Font family 'times' not found.\n",
            "WARNING:matplotlib.font_manager:findfont: Font family 'times' not found.\n",
            "WARNING:matplotlib.font_manager:findfont: Font family 'times' not found.\n",
            "WARNING:matplotlib.font_manager:findfont: Font family 'times' not found.\n",
            "WARNING:matplotlib.font_manager:findfont: Font family 'times' not found.\n",
            "WARNING:matplotlib.font_manager:findfont: Font family 'times' not found.\n",
            "WARNING:matplotlib.font_manager:findfont: Font family 'times' not found.\n",
            "WARNING:matplotlib.font_manager:findfont: Font family 'times' not found.\n",
            "WARNING:matplotlib.font_manager:findfont: Font family 'times' not found.\n",
            "WARNING:matplotlib.font_manager:findfont: Font family 'times' not found.\n",
            "WARNING:matplotlib.font_manager:findfont: Font family 'times' not found.\n",
            "WARNING:matplotlib.font_manager:findfont: Font family 'times' not found.\n",
            "WARNING:matplotlib.font_manager:findfont: Font family 'times' not found.\n",
            "WARNING:matplotlib.font_manager:findfont: Font family 'times' not found.\n",
            "WARNING:matplotlib.font_manager:findfont: Font family 'times' not found.\n",
            "WARNING:matplotlib.font_manager:findfont: Font family 'times' not found.\n",
            "WARNING:matplotlib.font_manager:findfont: Font family 'times' not found.\n",
            "WARNING:matplotlib.font_manager:findfont: Font family 'times' not found.\n",
            "WARNING:matplotlib.font_manager:findfont: Font family 'times' not found.\n",
            "WARNING:matplotlib.font_manager:findfont: Font family 'times' not found.\n",
            "WARNING:matplotlib.font_manager:findfont: Font family 'times' not found.\n",
            "WARNING:matplotlib.font_manager:findfont: Font family 'times' not found.\n",
            "WARNING:matplotlib.font_manager:findfont: Font family 'times' not found.\n",
            "WARNING:matplotlib.font_manager:findfont: Font family 'times' not found.\n",
            "WARNING:matplotlib.font_manager:findfont: Font family 'times' not found.\n",
            "WARNING:matplotlib.font_manager:findfont: Font family 'times' not found.\n",
            "WARNING:matplotlib.font_manager:findfont: Font family 'times' not found.\n",
            "WARNING:matplotlib.font_manager:findfont: Font family 'times' not found.\n",
            "WARNING:matplotlib.font_manager:findfont: Font family 'times' not found.\n",
            "WARNING:matplotlib.font_manager:findfont: Font family 'times' not found.\n",
            "WARNING:matplotlib.font_manager:findfont: Font family 'times' not found.\n",
            "WARNING:matplotlib.font_manager:findfont: Font family 'times' not found.\n",
            "WARNING:matplotlib.font_manager:findfont: Font family 'times' not found.\n",
            "WARNING:matplotlib.font_manager:findfont: Font family 'times' not found.\n",
            "WARNING:matplotlib.font_manager:findfont: Font family 'times' not found.\n",
            "WARNING:matplotlib.font_manager:findfont: Font family 'times' not found.\n",
            "WARNING:matplotlib.font_manager:findfont: Font family 'times' not found.\n",
            "WARNING:matplotlib.font_manager:findfont: Font family 'times' not found.\n",
            "WARNING:matplotlib.font_manager:findfont: Font family 'times' not found.\n",
            "WARNING:matplotlib.font_manager:findfont: Font family 'times' not found.\n",
            "WARNING:matplotlib.font_manager:findfont: Font family 'times' not found.\n",
            "WARNING:matplotlib.font_manager:findfont: Font family 'times' not found.\n",
            "WARNING:matplotlib.font_manager:findfont: Font family 'times' not found.\n",
            "WARNING:matplotlib.font_manager:findfont: Font family 'times' not found.\n",
            "WARNING:matplotlib.font_manager:findfont: Font family 'times' not found.\n",
            "WARNING:matplotlib.font_manager:findfont: Font family 'times' not found.\n",
            "WARNING:matplotlib.font_manager:findfont: Font family 'times' not found.\n",
            "WARNING:matplotlib.font_manager:findfont: Font family 'times' not found.\n",
            "WARNING:matplotlib.font_manager:findfont: Font family 'times' not found.\n",
            "WARNING:matplotlib.font_manager:findfont: Font family 'times' not found.\n",
            "WARNING:matplotlib.font_manager:findfont: Font family 'times' not found.\n",
            "WARNING:matplotlib.font_manager:findfont: Font family 'times' not found.\n",
            "WARNING:matplotlib.font_manager:findfont: Font family 'times' not found.\n",
            "WARNING:matplotlib.font_manager:findfont: Font family 'times' not found.\n",
            "WARNING:matplotlib.font_manager:findfont: Font family 'times' not found.\n",
            "WARNING:matplotlib.font_manager:findfont: Font family 'times' not found.\n",
            "WARNING:matplotlib.font_manager:findfont: Font family 'times' not found.\n",
            "WARNING:matplotlib.font_manager:findfont: Font family 'times' not found.\n",
            "WARNING:matplotlib.font_manager:findfont: Font family 'times' not found.\n",
            "WARNING:matplotlib.font_manager:findfont: Font family 'times' not found.\n"
          ]
        },
        {
          "output_type": "display_data",
          "data": {
            "text/plain": [
              "<Figure size 1200x500 with 1 Axes>"
            ],
            "image/png": "[encoded data removed]"
          },
          "metadata": {}
        }
      ],
      "source": [
        "df = accidents\n",
        "\n",
        "n = 100                                               # number of observations\n",
        "N_test = 100                                          # number of samples with n observations\n",
        "means = np.array([0.0] * N_test)                      # samples' mean\n",
        "s = np.array([0.0] * N_test)                          # samples' std\n",
        "ci = np.array([[0.0,0.0]] * N_test)\n",
        "tm = df.mean()                                        # \"true\" mean\n",
        "\n",
        "for i in range(N_test):                               # sample generation and CI computation\n",
        "    rows = np.random.choice(df.index.values, n)\n",
        "    sampled_df = df.loc[rows]\n",
        "    means[i] = sampled_df.mean()\n",
        "    s[i] = sampled_df.std()\n",
        "    ci[i] = means[i] + np.array([-s[i] *1.96/np.sqrt(n), s[i]*1.96/np.sqrt(n)])\n",
        "\n",
        "out1 = ci[:,0] > tm                                   # CI that do not contain the \"true\" mean\n",
        "out2 = ci[:,1] < tm\n",
        "\n",
        "fig, ax = plt.subplots(1, 1, figsize=(12, 5))\n",
        "ind = np.arange(1, N_test+1)\n",
        "ax.axhline(y = tm,\n",
        "           xmin = 0,\n",
        "           xmax = N_test+1,\n",
        "           color = [0, 0, 0])\n",
        "ci = np.transpose(ci)\n",
        "ax.plot([ind,ind],\n",
        "        ci,\n",
        "        color = '0.75',\n",
        "        marker = '_',\n",
        "        ms = 0,\n",
        "        linewidth = 3)\n",
        "ax.plot([ind[out1],ind[out1]],\n",
        "        ci[:, out1],\n",
        "        color = [1, 0, 0, 0.8],\n",
        "        marker = '_',\n",
        "        ms = 0,\n",
        "        linewidth = 3)\n",
        "ax.plot([ind[out2],ind[out2]],\n",
        "        ci[:, out2],\n",
        "        color = [1, 0, 0, 0.8],\n",
        "        marker = '_',\n",
        "        ms = 0,\n",
        "        linewidth = 3)\n",
        "ax.plot(ind,\n",
        "        means,\n",
        "        color = [0, .8, .2, .8],\n",
        "        marker = '.',\n",
        "        ms = 10,\n",
        "        linestyle = '')\n",
        "ax.set_ylabel(\"Confidence interval for the samples' mean estimate\",\n",
        "              fontsize = 12)\n",
        "ax.set_xlabel('Samples (with %d observations). '  %n,\n",
        "              fontsize = 12)\n",
        "plt.savefig(\"confidence.png\",\n",
        "            dpi = 300,\n",
        "            bbox_inches = 'tight')\n",
        "plt.show()"
      ]
    },
    {
      "cell_type": "markdown",
      "metadata": {
        "id": "NGL4YZ7E5IaJ"
      },
      "source": [
        "## Hypothesis testing\n",
        "\n",
        "To give a measure of variability of our estimates is a way of producing a\n",
        "statistical proposition about the population, but not the only one. R.A.Fisher\n",
        "(1890-1962) proposed an alternative, known as *hypothesis testing*, that is\n",
        "based on the concept of *statistical significance*.\n",
        "\n",
        "Let's suppose that a deeper analysis of traffic accidents in Barcelona results\n",
        "in a difference between 2010 and 2013. Of course, the diference could be caused only by chance, because of the variability of both estimates. But it\n",
        "could also be the case that traffic conditions are very diferent in Barcelona\n",
        "during these two periods and, because of this, data from these two periods can\n",
        "be considered as belonging to two diferent populations. Then, the relevant\n",
        "question is: Are the observed effects real or not?\n",
        "\n",
        "The process of determining the statistical significance of an effect is called\n",
        "**hypothesis testing**. This process starts by simplifying the options into two\n",
        "competing hypotheses:\n",
        "\n",
        "+ $H_0$: The mean number of daily traffic accidents is the same in 2013 and 2010 (there is only one population, one true mean, and 2010 and 2013 are just different samples from the same population).\n",
        "\n",
        "+ $H_A$: The mean number of daily traffic accidents for 2010 and for 2013 is different (2010 and 2013 are two samples from two different populations).\n",
        "\n",
        "We call $H_0$ the *null hypothesis* and it represents a skeptical point of view:\n",
        "the effect we have observed is due to chance (due to the specific sample bias).\n",
        "\n",
        "$H_A$ is the *alternative hypothesis* and it represents the other point of view:\n",
        "the effect is real.\n",
        "\n",
        "The general rule of frequentist hypothesis testing is: We will not discard $H_0$\n",
        "(and hence we will not consider $H_A$) unless the observed effect is implausible\n",
        "under $H_0$."
      ]
    },
    {
      "cell_type": "markdown",
      "metadata": {
        "id": "jwz7-HzX5IaK"
      },
      "source": [
        "### Testing hypotheses using confidence intervals.\n",
        "\n",
        "We can use the concept represented by confidence intervals to measure the\n",
        "plausibility of an hypothesis.\n",
        "\n",
        "We can illustrate the evaluation of the hypotheses setup by comparing the\n",
        "mean rate of traffic accidents in Barcelona during 2010 and 2013 using a point estimate from the 2013 sample:"
      ]
    },
    {
      "cell_type": "code",
      "execution_count": 64,
      "metadata": {
        "id": "2-5dgqLu5IaK",
        "outputId": "a75488ea-3507-485c-ccc6-77f8aa680d13",
        "colab": {
          "base_uri": "https://localhost:8080/"
        }
      },
      "outputs": [
        {
          "output_type": "stream",
          "name": "stdout",
          "text": [
            "2010: Mean 24.81095890410959\n",
            "2013: Mean 25.90958904109589\n"
          ]
        }
      ],
      "source": [
        "data = pd.read_csv(\"ACCIDENTS_GU_BCN_2010.csv\", encoding='latin-1')\n",
        "\n",
        "#Create a new column which is the date\n",
        "data['Date'] = data['Dia de mes'].apply(lambda x : str(x)) + '-' +  \\\n",
        "               data['Mes de any'].apply(lambda x : str(x))\n",
        "data2 = data['Date']\n",
        "counts2010 =data['Date'].value_counts()\n",
        "print('2010: Mean', counts2010.mean())\n",
        "\n",
        "data = pd.read_csv(\"ACCIDENTS_GU_BCN_2013.csv\", encoding='latin-1')\n",
        "\n",
        "#Create a new column which is the date\n",
        "data['Date'] = data['Day of the Month'].apply(lambda x : str(x)) + '-' +  \\\n",
        "               data['Month of the Year'].apply(lambda x : str(x))\n",
        "data2 = data['Date']\n",
        "counts2013 = data['Date'].value_counts()\n",
        "print('2013: Mean', counts2013.mean())"
      ]
    },
    {
      "cell_type": "markdown",
      "metadata": {
        "id": "-pDH5r1K5IaP"
      },
      "source": [
        "This estimate suggests that during 2013 the mean rate of\n",
        "traffic accidents in Barcelona **was higher** than 2010. But is this effect statistically significant?\n",
        "\n",
        "Based on our sample, the 95% confidence interval for the mean rate of\n",
        "traffic accidents in Barcelona during 2013 can be calculated as:"
      ]
    },
    {
      "cell_type": "code",
      "execution_count": 65,
      "metadata": {
        "id": "SkD1cEjT5IaP",
        "outputId": "956de769-6dcc-4e43-c5c3-58ff2d9f2ff5",
        "colab": {
          "base_uri": "https://localhost:8080/"
        }
      },
      "outputs": [
        {
          "output_type": "stream",
          "name": "stdout",
          "text": [
            "2010 accident rate estimate: 24.81095890410959\n",
            "2013 accident rate estimate: 25.90958904109589\n",
            "CI for 2013: [np.float64(24.975156065800284), np.float64(26.8440220163915)]\n"
          ]
        }
      ],
      "source": [
        "n = len(counts2013)\n",
        "mean = counts2013.mean()\n",
        "s = counts2013.std()\n",
        "ci = [mean - s*1.96/np.sqrt(n),  mean + s*1.96/np.sqrt(n)]\n",
        "print('2010 accident rate estimate:', counts2010.mean())\n",
        "print('2013 accident rate estimate:', counts2013.mean())\n",
        "print('CI for 2013:',ci)"
      ]
    },
    {
      "cell_type": "markdown",
      "metadata": {
        "id": "l5LpEBE55IaP"
      },
      "source": [
        "Because 2010 accident rate estimate does not fall in the range of plausible values of 2013, we say the\n",
        "alternative hypothesis cannot be discarted. That is, it can not be discarted that during 2013 the mean rate of traffic accidents in Barcelona was higher than during 2010."
      ]
    },
    {
      "cell_type": "markdown",
      "metadata": {
        "id": "BQjU0uly5IaQ"
      },
      "source": [
        "### Testing hypotheses using P-values.\n",
        "\n",
        "A more advanced notion of statistical significance was developed by R.A.Fisher\n",
        "in the 1920's when looking for a test to decide whether variation in crop yields\n",
        "were due to some specific intervention or merely randon factors beyond experimental control.\n",
        "Fisher first assumed that fertilizer caused no difference (null hypothesis)\n",
        "and then calculated $P$, the probability that an observed yield in a fertilized\n",
        "field would occur if fertilizer had no real effect. This probability is called\n",
        "p-value.\n",
        "\n",
        "The p-value is the probability of observing data at least as favorable to\n",
        "the alternative hypothesis as our current data set, if the null hypothesis is\n",
        "true.\n",
        "\n",
        "To apply a test of hypotheses to our problem, the first step is to quantify the size of the apparent effect by choosing a test statistic. In our case, the apparent effect is a difference in accident\n",
        "rates, so a natural choice for the test statistic is the difference in means\n",
        "between the two periods:"
      ]
    },
    {
      "cell_type": "code",
      "execution_count": 69,
      "metadata": {
        "id": "WEcxLma_5IaQ",
        "outputId": "edd3f9ad-04f8-428a-9e05-c89d9ba683f7",
        "colab": {
          "base_uri": "https://localhost:8080/"
        }
      },
      "outputs": [
        {
          "output_type": "stream",
          "name": "stdout",
          "text": [
            "m: 365 n: 365\n",
            "mean difference:  1.0986301369863014\n"
          ]
        }
      ],
      "source": [
        "m = len(counts2010)\n",
        "n = len(counts2013)\n",
        "p = (counts2013.mean() - counts2010.mean())\n",
        "print('m:',m, 'n:', n)\n",
        "print('mean difference: ', p)"
      ]
    },
    {
      "cell_type": "markdown",
      "metadata": {
        "id": "R9cdivNc5IaQ"
      },
      "source": [
        "The second step is to define a null hypothesis, which is a model of the\n",
        "system based on the assumption that the apparent effect is not real. In\n",
        "our case the null hypothesis is that there is no diference between the two\n",
        "periods. The alternative hypothesis is that during 2013 the mean rate of traffic accidents in Barcelona was higher than 2010.\n",
        "\n",
        "The third step is to compute a p-value, which is the probability of seeing\n",
        "the apparent effect if the null hypothesis is true. In our case, we would\n",
        "compute the absolute difference in means, then compute the probability\n",
        "of seeing a difference as big, or bigger, under the null hypothesis.\n",
        "\n",
        "Usually, if P is less than 0.05 (the chance of a\n",
        "fluke is less than 5%) the\n",
        "result is declared statistically significant.\n",
        "\n",
        "To approximate the p-value, we can follow the following procedure:\n",
        "1. Pool the distributions, generate samples with size $n$ and compute the difference in the mean.\n",
        "2. Generate samples with size $n$ and compute the difference in the mean.\n",
        "3. Count how many differences are larger than the observed one"
      ]
    },
    {
      "cell_type": "code",
      "execution_count": 66,
      "metadata": {
        "id": "7fempFgn5IaQ",
        "outputId": "5dca768a-dbd4-4c13-d79d-6c85f95a417b",
        "colab": {
          "base_uri": "https://localhost:8080/",
          "height": 1000
        }
      },
      "outputs": [
        {
          "output_type": "stream",
          "name": "stdout",
          "text": [
            "[46 45 44 43 42 41 41 41 41 41 40 40 40 39 39 39 39 39 39 38 38 38 38 38\n",
            " 38 38 38 38 38 38 37 37 37 36 36 36 36 36 36 36 36 36 36 36 36 36 35 35\n",
            " 35 35 35 35 35 35 35 35 34 34 34 34 34 34 34 33 33 33 33 33 33 33 33 33\n",
            " 32 32 32 32 32 32 32 32 32 32 32 32 31 31 31 31 31 31 31 31 31 31 30 30\n",
            " 30 30 30 30 30 30 30 30 30 30 30 30 30 30 30 30 29 29 29 29 29 29 29 29\n",
            " 29 29 29 29 29 29 29 29 29 29 29 29 29 29 29 29 29 29 29 28 28 28 28 28\n",
            " 28 28 28 28 28 28 28 28 28 28 28 28 27 27 27 27 27 27 27 27 27 27 27 26\n",
            " 26 26 26 26 26 26 26 26 26 26 26 25 25 25 25 25 25 25 25 25 25 25 25 25\n",
            " 25 25 25 25 24 24 24 24 24 24 24 24 24 23 23 23 23 23 23 23 22 22 22 22\n",
            " 22 22 22 22 21 21 21 21 21 21 21 20 20 20 20 20 20 20 20 20 20 20 20 20\n",
            " 20 20 20 19 19 19 19 19 19 19 19 19 19 19 19 19 19 19 19 18 18 18 18 18\n",
            " 18 18 18 18 18 18 18 18 18 18 18 18 17 17 17 17 17 17 17 17 17 17 17 17\n",
            " 17 17 17 17 16 16 16 16 16 16 16 16 16 16 16 16 16 16 16 16 16 15 15 15\n",
            " 15 15 15 15 15 15 15 15 15 15 14 14 14 14 14 14 14 14 14 14 14 14 13 13\n",
            " 13 13 13 13 12 12 12 12 12 12 12 12 11 11 11 11 11 10 10 10 10 10 10  9\n",
            "  8  7  7  7  4 48 47 46 46 46 46 45 45 45 44 44 44 44 43 43 43 43 42 41\n",
            " 41 41 41 40 40 40 39 39 39 39 39 38 38 38 38 37 37 37 37 37 37 37 37 36\n",
            " 36 36 36 36 36 36 36 36 36 36 36 36 36 36 35 35 35 35 35 35 35 35 35 35\n",
            " 35 34 34 34 34 34 34 34 34 33 33 33 33 33 33 33 32 32 32 32 32 32 32 32\n",
            " 32 32 32 32 32 32 32 32 32 32 31 31 31 31 31 31 31 31 31 31 31 31 31 31\n",
            " 31 31 31 31 30 30 30 30 30 30 30 30 30 30 30 30 30 30 30 30 30 30 29 29\n",
            " 29 29 29 29 29 29 29 28 28 28 28 28 28 28 28 28 28 28 28 28 28 27 27 27\n",
            " 27 27 27 27 27 27 27 27 27 27 27 27 27 27 27 27 26 26 26 26 26 26 26 26\n",
            " 26 26 26 26 26 26 26 26 26 26 25 25 25 25 25 25 25 25 24 24 24 24 24 24\n",
            " 24 24 24 24 24 24 24 23 23 23 23 23 23 23 23 23 23 23 23 23 23 23 23 23\n",
            " 23 23 22 22 22 22 22 22 22 21 21 21 21 21 21 21 21 21 21 20 20 20 20 20\n",
            " 20 20 20 20 20 20 20 20 19 19 19 19 19 19 19 19 19 19 18 18 18 18 18 18\n",
            " 18 18 18 18 18 18 17 17 17 17 17 17 17 17 17 17 17 17 17 16 16 16 16 16\n",
            " 16 16 16 16 16 15 15 15 15 15 15 15 15 14 14 14 14 14 14 14 14 14 13 13\n",
            " 13 13 13 13 12 12 12 12 12 12 11 11 11 11 11 11 11 11 11 11 10 10 10 10\n",
            " 10  9  9  9  9  9  9  9  6  5]\n"
          ]
        },
        {
          "output_type": "execute_result",
          "data": {
            "text/plain": [
              "Text(0.5, 1.0, 'Pooled distribution')"
            ]
          },
          "metadata": {},
          "execution_count": 66
        },
        {
          "output_type": "stream",
          "name": "stderr",
          "text": [
            "WARNING:matplotlib.font_manager:findfont: Font family 'times' not found.\n",
            "WARNING:matplotlib.font_manager:findfont: Font family 'times' not found.\n",
            "WARNING:matplotlib.font_manager:findfont: Font family 'times' not found.\n",
            "WARNING:matplotlib.font_manager:findfont: Font family 'times' not found.\n",
            "WARNING:matplotlib.font_manager:findfont: Font family 'times' not found.\n",
            "WARNING:matplotlib.font_manager:findfont: Font family 'times' not found.\n",
            "WARNING:matplotlib.font_manager:findfont: Font family 'times' not found.\n",
            "WARNING:matplotlib.font_manager:findfont: Font family 'times' not found.\n",
            "WARNING:matplotlib.font_manager:findfont: Font family 'times' not found.\n",
            "WARNING:matplotlib.font_manager:findfont: Font family 'times' not found.\n",
            "WARNING:matplotlib.font_manager:findfont: Font family 'times' not found.\n",
            "WARNING:matplotlib.font_manager:findfont: Font family 'times' not found.\n",
            "WARNING:matplotlib.font_manager:findfont: Font family 'times' not found.\n",
            "WARNING:matplotlib.font_manager:findfont: Font family 'times' not found.\n",
            "WARNING:matplotlib.font_manager:findfont: Font family 'times' not found.\n",
            "WARNING:matplotlib.font_manager:findfont: Font family 'times' not found.\n",
            "WARNING:matplotlib.font_manager:findfont: Font family 'times' not found.\n",
            "WARNING:matplotlib.font_manager:findfont: Font family 'times' not found.\n",
            "WARNING:matplotlib.font_manager:findfont: Font family 'times' not found.\n",
            "WARNING:matplotlib.font_manager:findfont: Font family 'times' not found.\n",
            "WARNING:matplotlib.font_manager:findfont: Font family 'times' not found.\n",
            "WARNING:matplotlib.font_manager:findfont: Font family 'times' not found.\n",
            "WARNING:matplotlib.font_manager:findfont: Font family 'times' not found.\n",
            "WARNING:matplotlib.font_manager:findfont: Font family 'times' not found.\n",
            "WARNING:matplotlib.font_manager:findfont: Font family 'times' not found.\n",
            "WARNING:matplotlib.font_manager:findfont: Font family 'times' not found.\n",
            "WARNING:matplotlib.font_manager:findfont: Font family 'times' not found.\n",
            "WARNING:matplotlib.font_manager:findfont: Font family 'times' not found.\n",
            "WARNING:matplotlib.font_manager:findfont: Font family 'times' not found.\n",
            "WARNING:matplotlib.font_manager:findfont: Font family 'times' not found.\n",
            "WARNING:matplotlib.font_manager:findfont: Font family 'times' not found.\n",
            "WARNING:matplotlib.font_manager:findfont: Font family 'times' not found.\n",
            "WARNING:matplotlib.font_manager:findfont: Font family 'times' not found.\n",
            "WARNING:matplotlib.font_manager:findfont: Font family 'times' not found.\n",
            "WARNING:matplotlib.font_manager:findfont: Font family 'times' not found.\n",
            "WARNING:matplotlib.font_manager:findfont: Font family 'times' not found.\n",
            "WARNING:matplotlib.font_manager:findfont: Font family 'times' not found.\n",
            "WARNING:matplotlib.font_manager:findfont: Font family 'times' not found.\n",
            "WARNING:matplotlib.font_manager:findfont: Font family 'times' not found.\n",
            "WARNING:matplotlib.font_manager:findfont: Font family 'times' not found.\n",
            "WARNING:matplotlib.font_manager:findfont: Font family 'times' not found.\n",
            "WARNING:matplotlib.font_manager:findfont: Font family 'times' not found.\n",
            "WARNING:matplotlib.font_manager:findfont: Font family 'times' not found.\n",
            "WARNING:matplotlib.font_manager:findfont: Font family 'times' not found.\n",
            "WARNING:matplotlib.font_manager:findfont: Font family 'times' not found.\n",
            "WARNING:matplotlib.font_manager:findfont: Font family 'times' not found.\n",
            "WARNING:matplotlib.font_manager:findfont: Font family 'times' not found.\n",
            "WARNING:matplotlib.font_manager:findfont: Font family 'times' not found.\n",
            "WARNING:matplotlib.font_manager:findfont: Font family 'times' not found.\n",
            "WARNING:matplotlib.font_manager:findfont: Font family 'times' not found.\n",
            "WARNING:matplotlib.font_manager:findfont: Font family 'times' not found.\n",
            "WARNING:matplotlib.font_manager:findfont: Font family 'times' not found.\n",
            "WARNING:matplotlib.font_manager:findfont: Font family 'times' not found.\n",
            "WARNING:matplotlib.font_manager:findfont: Font family 'times' not found.\n",
            "WARNING:matplotlib.font_manager:findfont: Font family 'times' not found.\n",
            "WARNING:matplotlib.font_manager:findfont: Font family 'times' not found.\n",
            "WARNING:matplotlib.font_manager:findfont: Font family 'times' not found.\n",
            "WARNING:matplotlib.font_manager:findfont: Font family 'times' not found.\n",
            "WARNING:matplotlib.font_manager:findfont: Font family 'times' not found.\n",
            "WARNING:matplotlib.font_manager:findfont: Font family 'times' not found.\n",
            "WARNING:matplotlib.font_manager:findfont: Font family 'times' not found.\n",
            "WARNING:matplotlib.font_manager:findfont: Font family 'times' not found.\n"
          ]
        },
        {
          "output_type": "display_data",
          "data": {
            "text/plain": [
              "<Figure size 1200x300 with 1 Axes>"
            ],
            "image/png": "[encoded data removed]"
          },
          "metadata": {}
        }
      ],
      "source": [
        "x = counts2010\n",
        "y = counts2013\n",
        "pool = np.concatenate([x,y])\n",
        "print(pool)\n",
        "np.random.shuffle(pool)\n",
        "\n",
        "fig, ax = plt.subplots(1, 1, figsize=(12, 3))\n",
        "plt.hist(pool,\n",
        "         bins = 25,\n",
        "         density = True)\n",
        "plt.ylabel('Frequency')\n",
        "plt.xlabel('Number of accidents')\n",
        "plt.title(\"Pooled distribution\")"
      ]
    },
    {
      "cell_type": "code",
      "execution_count": 70,
      "metadata": {
        "id": "TR7HbWFG5IaQ",
        "outputId": "601b99ff-595d-4ed3-fe32-9ef230c3cc4a",
        "colab": {
          "base_uri": "https://localhost:8080/",
          "height": 1000
        }
      },
      "outputs": [
        {
          "output_type": "execute_result",
          "data": {
            "text/plain": [
              "Text(0.5, 0, 'Difference in the mean')"
            ]
          },
          "metadata": {},
          "execution_count": 70
        },
        {
          "output_type": "stream",
          "name": "stderr",
          "text": [
            "WARNING:matplotlib.font_manager:findfont: Font family 'times' not found.\n",
            "WARNING:matplotlib.font_manager:findfont: Font family 'times' not found.\n",
            "WARNING:matplotlib.font_manager:findfont: Font family 'times' not found.\n",
            "WARNING:matplotlib.font_manager:findfont: Font family 'times' not found.\n",
            "WARNING:matplotlib.font_manager:findfont: Font family 'times' not found.\n",
            "WARNING:matplotlib.font_manager:findfont: Font family 'times' not found.\n",
            "WARNING:matplotlib.font_manager:findfont: Font family 'times' not found.\n",
            "WARNING:matplotlib.font_manager:findfont: Font family 'times' not found.\n",
            "WARNING:matplotlib.font_manager:findfont: Font family 'times' not found.\n",
            "WARNING:matplotlib.font_manager:findfont: Font family 'times' not found.\n",
            "WARNING:matplotlib.font_manager:findfont: Font family 'times' not found.\n",
            "WARNING:matplotlib.font_manager:findfont: Font family 'times' not found.\n",
            "WARNING:matplotlib.font_manager:findfont: Font family 'times' not found.\n",
            "WARNING:matplotlib.font_manager:findfont: Font family 'times' not found.\n",
            "WARNING:matplotlib.font_manager:findfont: Font family 'times' not found.\n",
            "WARNING:matplotlib.font_manager:findfont: Font family 'times' not found.\n",
            "WARNING:matplotlib.font_manager:findfont: Font family 'times' not found.\n",
            "WARNING:matplotlib.font_manager:findfont: Font family 'times' not found.\n",
            "WARNING:matplotlib.font_manager:findfont: Font family 'times' not found.\n",
            "WARNING:matplotlib.font_manager:findfont: Font family 'times' not found.\n",
            "WARNING:matplotlib.font_manager:findfont: Font family 'times' not found.\n",
            "WARNING:matplotlib.font_manager:findfont: Font family 'times' not found.\n",
            "WARNING:matplotlib.font_manager:findfont: Font family 'times' not found.\n",
            "WARNING:matplotlib.font_manager:findfont: Font family 'times' not found.\n",
            "WARNING:matplotlib.font_manager:findfont: Font family 'times' not found.\n",
            "WARNING:matplotlib.font_manager:findfont: Font family 'times' not found.\n",
            "WARNING:matplotlib.font_manager:findfont: Font family 'times' not found.\n",
            "WARNING:matplotlib.font_manager:findfont: Font family 'times' not found.\n",
            "WARNING:matplotlib.font_manager:findfont: Font family 'times' not found.\n",
            "WARNING:matplotlib.font_manager:findfont: Font family 'times' not found.\n",
            "WARNING:matplotlib.font_manager:findfont: Font family 'times' not found.\n",
            "WARNING:matplotlib.font_manager:findfont: Font family 'times' not found.\n",
            "WARNING:matplotlib.font_manager:findfont: Font family 'times' not found.\n",
            "WARNING:matplotlib.font_manager:findfont: Font family 'times' not found.\n",
            "WARNING:matplotlib.font_manager:findfont: Font family 'times' not found.\n",
            "WARNING:matplotlib.font_manager:findfont: Font family 'times' not found.\n",
            "WARNING:matplotlib.font_manager:findfont: Font family 'times' not found.\n",
            "WARNING:matplotlib.font_manager:findfont: Font family 'times' not found.\n",
            "WARNING:matplotlib.font_manager:findfont: Font family 'times' not found.\n",
            "WARNING:matplotlib.font_manager:findfont: Font family 'times' not found.\n",
            "WARNING:matplotlib.font_manager:findfont: Font family 'times' not found.\n",
            "WARNING:matplotlib.font_manager:findfont: Font family 'times' not found.\n",
            "WARNING:matplotlib.font_manager:findfont: Font family 'times' not found.\n",
            "WARNING:matplotlib.font_manager:findfont: Font family 'times' not found.\n",
            "WARNING:matplotlib.font_manager:findfont: Font family 'times' not found.\n",
            "WARNING:matplotlib.font_manager:findfont: Font family 'times' not found.\n",
            "WARNING:matplotlib.font_manager:findfont: Font family 'times' not found.\n",
            "WARNING:matplotlib.font_manager:findfont: Font family 'times' not found.\n",
            "WARNING:matplotlib.font_manager:findfont: Font family 'times' not found.\n",
            "WARNING:matplotlib.font_manager:findfont: Font family 'times' not found.\n",
            "WARNING:matplotlib.font_manager:findfont: Font family 'times' not found.\n",
            "WARNING:matplotlib.font_manager:findfont: Font family 'times' not found.\n",
            "WARNING:matplotlib.font_manager:findfont: Font family 'times' not found.\n",
            "WARNING:matplotlib.font_manager:findfont: Font family 'times' not found.\n",
            "WARNING:matplotlib.font_manager:findfont: Font family 'times' not found.\n",
            "WARNING:matplotlib.font_manager:findfont: Font family 'times' not found.\n",
            "WARNING:matplotlib.font_manager:findfont: Font family 'times' not found.\n",
            "WARNING:matplotlib.font_manager:findfont: Font family 'times' not found.\n",
            "WARNING:matplotlib.font_manager:findfont: Font family 'times' not found.\n",
            "WARNING:matplotlib.font_manager:findfont: Font family 'times' not found.\n",
            "WARNING:matplotlib.font_manager:findfont: Font family 'times' not found.\n",
            "WARNING:matplotlib.font_manager:findfont: Font family 'times' not found.\n",
            "WARNING:matplotlib.font_manager:findfont: Font family 'times' not found.\n",
            "WARNING:matplotlib.font_manager:findfont: Font family 'times' not found.\n",
            "WARNING:matplotlib.font_manager:findfont: Font family 'times' not found.\n",
            "WARNING:matplotlib.font_manager:findfont: Font family 'times' not found.\n",
            "WARNING:matplotlib.font_manager:findfont: Font family 'times' not found.\n",
            "WARNING:matplotlib.font_manager:findfont: Font family 'times' not found.\n",
            "WARNING:matplotlib.font_manager:findfont: Font family 'times' not found.\n",
            "WARNING:matplotlib.font_manager:findfont: Font family 'times' not found.\n",
            "WARNING:matplotlib.font_manager:findfont: Font family 'times' not found.\n",
            "WARNING:matplotlib.font_manager:findfont: Font family 'times' not found.\n"
          ]
        },
        {
          "output_type": "display_data",
          "data": {
            "text/plain": [
              "<Figure size 1200x300 with 1 Axes>"
            ],
            "image/png": "[encoded data removed]"
          },
          "metadata": {}
        }
      ],
      "source": [
        "N = 10000 # number of samples\n",
        "diff = np.arange(N)\n",
        "for i in np.arange(N):\n",
        "    p1 = [random.choice(pool) for _ in np.arange(n)]\n",
        "    p2 = [random.choice(pool) for _ in np.arange(n)]\n",
        "    diff[i] = (np.mean(p1)-np.mean(p2))\n",
        "\n",
        "fig, ax = plt.subplots(1, 1, figsize=(12, 3))\n",
        "plt.hist(diff, bins = 50, density = True)\n",
        "plt.ylabel('Frequency')\n",
        "plt.xlabel('Difference in the mean')"
      ]
    },
    {
      "cell_type": "code",
      "execution_count": 71,
      "metadata": {
        "id": "eQgmYZ985IaR",
        "outputId": "f8eb23d1-bced-43f3-ba53-592bd9acb61f",
        "colab": {
          "base_uri": "https://localhost:8080/"
        }
      },
      "outputs": [
        {
          "output_type": "execute_result",
          "data": {
            "text/plain": [
              "6"
            ]
          },
          "metadata": {},
          "execution_count": 71
        }
      ],
      "source": [
        "# counting how many differences are larger than the observed one\n",
        "diff2 = np.array(diff)\n",
        "w1 = np.where(diff2 > p)[0]\n",
        "len(w1)"
      ]
    },
    {
      "cell_type": "markdown",
      "metadata": {
        "id": "Rs4QwDyl5IaR"
      },
      "source": [
        "If there are $k$ sample pairs where the difference in mean is as big as or bigger than 0.05, the p-value is approximately $k/N$. In or case:"
      ]
    },
    {
      "cell_type": "code",
      "execution_count": 72,
      "metadata": {
        "id": "ry-7pXkC5IaR",
        "outputId": "84d31e7f-ea94-4498-b2b9-0b5581b2458b",
        "colab": {
          "base_uri": "https://localhost:8080/"
        }
      },
      "outputs": [
        {
          "output_type": "stream",
          "name": "stdout",
          "text": [
            "p-value (Simulation)= 0.0006 ( 0.06 %) Difference = 1.0986301369863014\n",
            "The effect is likely\n"
          ]
        }
      ],
      "source": [
        "print('p-value (Simulation)=', len(w1)/float(N), '(', len(w1)/float(N)*100 ,'%)', 'Difference =', p)\n",
        "if len(w1)/float(N)<0.05:\n",
        "    print('The effect is likely')\n",
        "else:\n",
        "    print('The effect is not likely')"
      ]
    },
    {
      "cell_type": "markdown",
      "metadata": {
        "id": "H0Ctb36m5IaR"
      },
      "source": [
        "We have defined the effect as a difference in mean as\n",
        "big or bigger than the observed difference, taking into account the sign. A test like this is called *one-sided*.\n",
        "\n",
        "If the relevant question is whether accident rates are different, then it\n",
        "makes sense to test the absolute difference in means. This kind of test is called *two-sided*\n",
        "because it  counts both sides of the distribution of differences."
      ]
    }
  ],
  "metadata": {
    "anaconda-cloud": {},
    "kernelspec": {
      "display_name": "Python 3 (ipykernel)",
      "language": "python",
      "name": "python3"
    },
    "language_info": {
      "codemirror_mode": {
        "name": "ipython",
        "version": 3
      },
      "file_extension": ".py",
      "mimetype": "text/x-python",
      "name": "python",
      "nbconvert_exporter": "python",
      "pygments_lexer": "ipython3",
      "version": "3.9.13"
    },
    "colab": {
      "provenance": []
    }
  },
  "nbformat": 4,
  "nbformat_minor": 0
}