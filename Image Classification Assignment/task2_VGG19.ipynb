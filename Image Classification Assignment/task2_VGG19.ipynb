{
  "nbformat": 4,
  "nbformat_minor": 0,
  "metadata": {
    "colab": {
      "provenance": [],
      "gpuType": "T4"
    },
    "kernelspec": {
      "name": "python3",
      "display_name": "Python 3"
    },
    "language_info": {
      "name": "python"
    },
    "accelerator": "GPU"
  },
  "cells": [
    {
      "cell_type": "markdown",
      "source": [
        "212039 - Muhammad Faizan\n",
        "\n",
        "BSCS-8B\n",
        "\n",
        "Task 2"
      ],
      "metadata": {
        "id": "K0FsqOxzTpPq"
      }
    },
    {
      "cell_type": "markdown",
      "source": [
        "VGG19 for 4-Class Image Classification"
      ],
      "metadata": {
        "id": "MI3Xtez0VEH_"
      }
    },
    {
      "cell_type": "code",
      "source": [
        "import torch\n",
        "import torch.nn as nn\n",
        "import torch.optim as optim\n",
        "from torchvision import models, datasets, transforms\n",
        "from torch.utils.data import DataLoader\n",
        "from sklearn.metrics import confusion_matrix, classification_report, ConfusionMatrixDisplay\n",
        "import matplotlib.pyplot as plt\n",
        "import os\n",
        "\n",
        "device = torch.device(\"cuda\" if torch.cuda.is_available() else \"cpu\")\n",
        "data_dir = '/content/Dataset/DataSet'"
      ],
      "metadata": {
        "id": "4qcHAENATqsV"
      },
      "execution_count": 2,
      "outputs": []
    },
    {
      "cell_type": "markdown",
      "source": [
        "Data Preprocessing & Loading"
      ],
      "metadata": {
        "id": "sjuPBGWYVHNs"
      }
    },
    {
      "cell_type": "code",
      "source": [
        "# Define standard ImageNet-style transforms\n",
        "transform = transforms.Compose([\n",
        "    transforms.Resize((224, 224)),\n",
        "    transforms.RandomHorizontalFlip(),\n",
        "    transforms.ToTensor(),\n",
        "    transforms.Normalize([0.485, 0.456, 0.406],\n",
        "                         [0.229, 0.224, 0.225])\n",
        "])\n",
        "\n",
        "# Load full dataset and split\n",
        "full_dataset = datasets.ImageFolder(root=data_dir, transform=transform)\n",
        "class_names = full_dataset.classes\n",
        "\n",
        "train_size = int(0.7 * len(full_dataset))\n",
        "val_size = int(0.15 * len(full_dataset))\n",
        "test_size = len(full_dataset) - train_size - val_size\n",
        "\n",
        "train_data, val_data, test_data = torch.utils.data.random_split(\n",
        "    full_dataset, [train_size, val_size, test_size])\n",
        "\n",
        "train_loader = DataLoader(train_data, batch_size=32, shuffle=True)\n",
        "val_loader = DataLoader(val_data, batch_size=32)\n",
        "test_loader = DataLoader(test_data, batch_size=32)\n"
      ],
      "metadata": {
        "id": "lPaG225ZT3uD"
      },
      "execution_count": 3,
      "outputs": []
    },
    {
      "cell_type": "markdown",
      "source": [
        "Load VGG19 and Modify for 4 Classes"
      ],
      "metadata": {
        "id": "4u-3VLU1VIXI"
      }
    },
    {
      "cell_type": "code",
      "source": [
        "# Load VGG19 model\n",
        "vgg = models.vgg19(pretrained=True)\n",
        "\n",
        "# Freeze all layers first (for transfer learning)\n",
        "for param in vgg.features.parameters():\n",
        "    param.requires_grad = False\n",
        "\n",
        "# Replace classifier for 4-class output\n",
        "vgg.classifier[6] = nn.Linear(vgg.classifier[6].in_features, 4)\n",
        "\n",
        "vgg = vgg.to(device)"
      ],
      "metadata": {
        "colab": {
          "base_uri": "https://localhost:8080/"
        },
        "id": "rkNZkv7JT6hh",
        "outputId": "578b01bb-2ad2-4d06-bdf0-1413177bb096"
      },
      "execution_count": 4,
      "outputs": [
        {
          "output_type": "stream",
          "name": "stderr",
          "text": [
            "/usr/local/lib/python3.11/dist-packages/torchvision/models/_utils.py:208: UserWarning: The parameter 'pretrained' is deprecated since 0.13 and may be removed in the future, please use 'weights' instead.\n",
            "  warnings.warn(\n",
            "/usr/local/lib/python3.11/dist-packages/torchvision/models/_utils.py:223: UserWarning: Arguments other than a weight enum or `None` for 'weights' are deprecated since 0.13 and may be removed in the future. The current behavior is equivalent to passing `weights=VGG19_Weights.IMAGENET1K_V1`. You can also use `weights=VGG19_Weights.DEFAULT` to get the most up-to-date weights.\n",
            "  warnings.warn(msg)\n",
            "Downloading: \"https://download.pytorch.org/models/vgg19-dcbb9e9d.pth\" to /root/.cache/torch/hub/checkpoints/vgg19-dcbb9e9d.pth\n",
            "100%|██████████| 548M/548M [00:03<00:00, 156MB/s]\n"
          ]
        }
      ]
    },
    {
      "cell_type": "markdown",
      "source": [
        "Training Function (Reusable for Transfer + Fine-Tuning)"
      ],
      "metadata": {
        "id": "ZvXR3qjKVLDT"
      }
    },
    {
      "cell_type": "code",
      "source": [
        "def train_model(model, train_loader, val_loader, criterion, optimizer, epochs=10):\n",
        "    train_acc, val_acc, train_loss, val_loss = [], [], [], []\n",
        "\n",
        "    for epoch in range(epochs):\n",
        "        model.train()\n",
        "        total_loss, correct, total = 0, 0, 0\n",
        "\n",
        "        for images, labels in train_loader:\n",
        "            images, labels = images.to(device), labels.to(device)\n",
        "\n",
        "            optimizer.zero_grad()\n",
        "            outputs = model(images)\n",
        "            loss = criterion(outputs, labels)\n",
        "            loss.backward()\n",
        "            optimizer.step()\n",
        "\n",
        "            total_loss += loss.item()\n",
        "            _, preds = torch.max(outputs, 1)\n",
        "            correct += (preds == labels).sum().item()\n",
        "            total += labels.size(0)\n",
        "\n",
        "        train_acc.append(correct / total)\n",
        "        train_loss.append(total_loss / len(train_loader))\n",
        "\n",
        "        # Validation\n",
        "        model.eval()\n",
        "        correct, total, val_epoch_loss = 0, 0, 0\n",
        "        with torch.no_grad():\n",
        "            for images, labels in val_loader:\n",
        "                images, labels = images.to(device), labels.to(device)\n",
        "                outputs = model(images)\n",
        "                loss = criterion(outputs, labels)\n",
        "\n",
        "                val_epoch_loss += loss.item()\n",
        "                _, preds = torch.max(outputs, 1)\n",
        "                correct += (preds == labels).sum().item()\n",
        "                total += labels.size(0)\n",
        "\n",
        "        val_acc.append(correct / total)\n",
        "        val_loss.append(val_epoch_loss / len(val_loader))\n",
        "\n",
        "        print(f\"Epoch {epoch+1}: Train Acc: {train_acc[-1]:.4f}, Val Acc: {val_acc[-1]:.4f}\")\n",
        "\n",
        "    return train_acc, val_acc, train_loss, val_loss"
      ],
      "metadata": {
        "id": "4mRmHlcrUAo_"
      },
      "execution_count": 5,
      "outputs": []
    },
    {
      "cell_type": "markdown",
      "source": [
        "Transfer Learning Training (Classifier Only)"
      ],
      "metadata": {
        "id": "_F4zebPiVlta"
      }
    },
    {
      "cell_type": "code",
      "source": [
        "criterion = nn.CrossEntropyLoss()\n",
        "optimizer = optim.Adam(vgg.classifier.parameters(), lr=1e-4)\n",
        "\n",
        "print(\"=== Starting Transfer Learning (frozen features) ===\")\n",
        "train_acc1, val_acc1, train_loss1, val_loss1 = train_model(\n",
        "    vgg, train_loader, val_loader, criterion, optimizer, epochs=10\n",
        ")"
      ],
      "metadata": {
        "colab": {
          "base_uri": "https://localhost:8080/"
        },
        "id": "bMlBJy_HU16v",
        "outputId": "68b76392-6dba-4a89-892d-aa8e35ed263f"
      },
      "execution_count": 6,
      "outputs": [
        {
          "output_type": "stream",
          "name": "stdout",
          "text": [
            "=== Starting Transfer Learning (frozen features) ===\n",
            "Epoch 1: Train Acc: 0.6979, Val Acc: 1.0000\n",
            "Epoch 2: Train Acc: 1.0000, Val Acc: 1.0000\n",
            "Epoch 3: Train Acc: 1.0000, Val Acc: 1.0000\n",
            "Epoch 4: Train Acc: 1.0000, Val Acc: 1.0000\n",
            "Epoch 5: Train Acc: 1.0000, Val Acc: 1.0000\n",
            "Epoch 6: Train Acc: 1.0000, Val Acc: 1.0000\n",
            "Epoch 7: Train Acc: 1.0000, Val Acc: 1.0000\n",
            "Epoch 8: Train Acc: 1.0000, Val Acc: 1.0000\n",
            "Epoch 9: Train Acc: 1.0000, Val Acc: 1.0000\n",
            "Epoch 10: Train Acc: 1.0000, Val Acc: 1.0000\n"
          ]
        }
      ]
    },
    {
      "cell_type": "markdown",
      "source": [
        " Fine-Tuning (Unfreeze last conv layers)"
      ],
      "metadata": {
        "id": "s9BMnk0iVo5g"
      }
    },
    {
      "cell_type": "code",
      "source": [
        "# Unfreeze last 3 convolution layers of block5\n",
        "for name, param in vgg.features.named_parameters():\n",
        "    if any(x in name for x in ['34', '35', '36']):  # conv5_1, conv5_2, conv5_3\n",
        "        param.requires_grad = True\n",
        "\n",
        "# Update optimizer to include new parameters\n",
        "optimizer = optim.Adam(filter(lambda p: p.requires_grad, vgg.parameters()), lr=1e-5)\n",
        "\n",
        "print(\"=== Starting Fine-Tuning (unfrozen last conv block) ===\")\n",
        "train_acc2, val_acc2, train_loss2, val_loss2 = train_model(\n",
        "    vgg, train_loader, val_loader, criterion, optimizer, epochs=10\n",
        ")"
      ],
      "metadata": {
        "colab": {
          "base_uri": "https://localhost:8080/"
        },
        "id": "_ApbLwoVU5cl",
        "outputId": "172f7cb8-cd8c-4d5b-f046-6a562a178d2d"
      },
      "execution_count": 7,
      "outputs": [
        {
          "output_type": "stream",
          "name": "stdout",
          "text": [
            "=== Starting Fine-Tuning (unfrozen last conv block) ===\n",
            "Epoch 1: Train Acc: 1.0000, Val Acc: 1.0000\n",
            "Epoch 2: Train Acc: 1.0000, Val Acc: 1.0000\n",
            "Epoch 3: Train Acc: 1.0000, Val Acc: 1.0000\n",
            "Epoch 4: Train Acc: 1.0000, Val Acc: 1.0000\n",
            "Epoch 5: Train Acc: 1.0000, Val Acc: 1.0000\n",
            "Epoch 6: Train Acc: 1.0000, Val Acc: 1.0000\n",
            "Epoch 7: Train Acc: 1.0000, Val Acc: 1.0000\n",
            "Epoch 8: Train Acc: 1.0000, Val Acc: 1.0000\n",
            "Epoch 9: Train Acc: 1.0000, Val Acc: 1.0000\n",
            "Epoch 10: Train Acc: 1.0000, Val Acc: 1.0000\n"
          ]
        }
      ]
    },
    {
      "cell_type": "markdown",
      "source": [
        "Plot Accuracy and Loss"
      ],
      "metadata": {
        "id": "atWfSGTXVvQF"
      }
    },
    {
      "cell_type": "code",
      "source": [
        "plt.figure(figsize=(12, 5))\n",
        "plt.subplot(1, 2, 1)\n",
        "plt.plot(train_acc1, label=\"Train Accuracy\")\n",
        "plt.plot(val_acc1, label=\"Val Accuracy\")\n",
        "plt.legend()\n",
        "plt.title(\"Accuracy over Epochs\")\n",
        "\n",
        "plt.subplot(1, 2, 2)\n",
        "plt.plot(train_loss1, label=\"Train Loss\")\n",
        "plt.plot(val_loss1, label=\"Val Loss\")\n",
        "plt.legend()\n",
        "plt.title(\"Loss over Epochs\")\n",
        "\n",
        "plt.show()\n"
      ],
      "metadata": {
        "colab": {
          "base_uri": "https://localhost:8080/",
          "height": 468
        },
        "id": "6B6q3NCKUDO5",
        "outputId": "3d845a9f-b1c0-4add-a27e-a03b1022c87f"
      },
      "execution_count": 11,
      "outputs": [
        {
          "output_type": "display_data",
          "data": {
            "text/plain": [
              "<Figure size 1200x500 with 2 Axes>"
            ],
            "image/png": "[encoded data removed]"
          },
          "metadata": {}
        }
      ]
    },
    {
      "cell_type": "markdown",
      "source": [
        "Evaluate on Test Set"
      ],
      "metadata": {
        "id": "0sSdSaYMVwFe"
      }
    },
    {
      "cell_type": "code",
      "source": [
        "vgg.eval()\n",
        "y_true, y_pred = [], []\n",
        "\n",
        "with torch.no_grad():\n",
        "    for images, labels in test_loader:\n",
        "        images = images.to(device)\n",
        "        outputs = vgg(images)\n",
        "        preds = torch.argmax(outputs, 1).cpu().numpy()\n",
        "        y_pred.extend(preds)\n",
        "        y_true.extend(labels.numpy())\n",
        "\n",
        "# Confusion matrix\n",
        "cm = confusion_matrix(y_true, y_pred)\n",
        "disp = ConfusionMatrixDisplay(cm, display_labels=class_names)\n",
        "disp.plot(cmap=\"Blues\")\n",
        "\n",
        "# Classification metrics\n",
        "report = classification_report(y_true, y_pred, target_names=class_names, output_dict=True)\n",
        "print(\"Precision:\", report['weighted avg']['precision'])\n",
        "print(\"Recall (Sensitivity):\", report['weighted avg']['recall'])\n",
        "print(\"F1 Score:\", report['weighted avg']['f1-score'])\n",
        "\n",
        "# Specificity per class\n",
        "specificity = []\n",
        "for i in range(len(cm)):\n",
        "    tn = cm.sum() - (cm[i, :].sum() + cm[:, i].sum() - cm[i, i])\n",
        "    fp = cm[:, i].sum() - cm[i, i]\n",
        "    specificity.append(tn / (tn + fp))\n",
        "print(\"Specificity per class:\", specificity)"
      ],
      "metadata": {
        "colab": {
          "base_uri": "https://localhost:8080/",
          "height": 609
        },
        "id": "c11E2jIjUFJD",
        "outputId": "5fa8b1df-f506-45f4-9468-69ffe6d0218f"
      },
      "execution_count": 12,
      "outputs": [
        {
          "output_type": "stream",
          "name": "stdout",
          "text": [
            "Precision: 1.0\n",
            "Recall (Sensitivity): 1.0\n",
            "F1 Score: 1.0\n",
            "Specificity per class: [np.float64(nan)]\n"
          ]
        },
        {
          "output_type": "stream",
          "name": "stderr",
          "text": [
            "/usr/local/lib/python3.11/dist-packages/sklearn/metrics/_classification.py:407: UserWarning: A single label was found in 'y_true' and 'y_pred'. For the confusion matrix to have the correct shape, use the 'labels' parameter to pass all known labels.\n",
            "  warnings.warn(\n",
            "<ipython-input-12-1742142141>:28: RuntimeWarning: invalid value encountered in scalar divide\n",
            "  specificity.append(tn / (tn + fp))\n"
          ]
        },
        {
          "output_type": "display_data",
          "data": {
            "text/plain": [
              "<Figure size 640x480 with 2 Axes>"
            ],
            "image/png": "[encoded data removed]"
          },
          "metadata": {}
        }
      ]
    }
  ]
}